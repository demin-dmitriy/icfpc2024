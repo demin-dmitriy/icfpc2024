{
 "cells": [
  {
   "cell_type": "code",
   "execution_count": 1,
   "metadata": {},
   "outputs": [],
   "source": [
    "from lambdaman_solver import Lambdaman\n",
    "\n",
    "from ortools.constraint_solver import routing_enums_pb2\n",
    "from ortools.constraint_solver import pywrapcp\n",
    "\n",
    "from pathlib import Path\n",
    "from pathlib import Path\n",
    "from time import sleep\n",
    "\n",
    "import com\n",
    "import lex\n",
    "import eval"
   ]
  },
  {
   "cell_type": "code",
   "execution_count": 18,
   "metadata": {},
   "outputs": [],
   "source": [
    "destination_dir = Path(f'solutions/lambdaman')\n",
    "reported_destination_dir = destination_dir / 'reported'\n",
    "reported_destination_dir.mkdir(exist_ok=True)"
   ]
  },
  {
   "cell_type": "code",
   "execution_count": 16,
   "metadata": {},
   "outputs": [],
   "source": [
    "def lambdaman10():\n",
    "    result = ['L']\n",
    "    for i in range(1, 2500):\n",
    "        if i % 50 == 0:\n",
    "            result.append('\\n')\n",
    "        if i % 11 == 0:\n",
    "            result.append('#')\n",
    "        else:\n",
    "            result.append('.')\n",
    "\n",
    "\n",
    "    return ''.join(result)\n"
   ]
  },
  {
   "cell_type": "code",
   "execution_count": 19,
   "metadata": {},
   "outputs": [
    {
     "data": {
      "text/plain": [
       "2549"
      ]
     },
     "execution_count": 19,
     "metadata": {},
     "output_type": "execute_result"
    }
   ],
   "source": [
    "Path('history/lambdaman/10').write_text(lambdaman10())"
   ]
  },
  {
   "cell_type": "code",
   "execution_count": 20,
   "metadata": {},
   "outputs": [],
   "source": [
    "def find_best_soultuion(i: int):\n",
    "    solutions = list(destination_dir.glob(f'{i}_*'))\n",
    "    if len(solutions) == 0:\n",
    "        print(f'Lambdaman #{i} without solutions')\n",
    "        return None\n",
    "\n",
    "    best = min(solutions, key=lambda f: int(f.name.split('_')[1]))\n",
    "    return best\n",
    "\n",
    "\n",
    "def get_msg_to_report(i, solution_text):\n",
    "    return f'solve lambdaman{i} {solution_text}'\n",
    "\n",
    "\n",
    "def save_solution(i, solution_text):\n",
    "    destination = destination_dir / f'{i}_{len(solution_text)}'\n",
    "    if destination.exists():\n",
    "        print(f'{destination} exists')\n",
    "        return\n",
    "\n",
    "    destination.write_text(solution_text)"
   ]
  },
  {
   "cell_type": "code",
   "execution_count": 26,
   "metadata": {},
   "outputs": [
    {
     "name": "stdout",
     "output_type": "stream",
     "text": [
      "Lambdaman #1 1_15\n",
      "Skip: already reported\n",
      "Lambdaman #2 2_26\n",
      "Skip: already reported\n",
      "Lambdaman #3 3_40\n",
      "Skip: already reported\n",
      "Lambdaman #4 4_348\n",
      "Skip: already reported\n",
      "Lambdaman #5 5_141\n",
      "Skip: already reported\n",
      "skip 6\n",
      "Lambdaman #7 7_398\n",
      "Skip: already reported\n",
      "Lambdaman #8 8_4899\n",
      "Skip: already reported\n",
      "skip 9\n",
      "Lambdaman #10 10_2300\n",
      "report: solve lambdaman10 DDDDDDDRDLDDRDDDDDDDDDRDDDDDDDDDRDDDDDDDDDRDDDRDLDDDDDRDDLDRRRRRRRRRURRDRRRRRRRRRURRDRRRRRRRRRURRDRRRRRRRRRURRDRUUULLDLLDLLURURRURRURULLDLLDLLLDDLDLLLURRURULLDLLLDLLDLLURURRURRURRRRRRURRRURRRULLLLLDLLDLLURURRURRURRDRRULURULLLDLLDLLDLLLDDLDLLDLLDLLLDDLDLLLURRURULLDLLLDLLDLLURURRURRURRRRRRURRRURRURULLDLLLDLLDLLURURRURRURRRRRRURRRURRURRURRDULULLDLLDLLLDLLDLLURURRURRURRRURRRRULLLLLLDLLDLLDLLLDDLDLLDLLDLLLDDLDLLDLLDLLLDDLDLLLURRURULLDLLLDLLDLLURURRURRURRRRRRURRRURRURULLDLLLDLLDLLURURRURRURRRRRRURRRURRURULLDLLLDLLDLLURURRURRURRRRRRURRRURRURRURRDRRRULLURRULLLLDLLDLLDLLLDLLDLLURURRURRURRRURRURRURRDRUUULLDLLDLLDLLLDLLDLLDLLLDDLDLLDLLDLLLDDLDLLDLLDLLLDDLDLLDLLDLLLDDLDLLURURULLDUURRRRURRRURRURULLDLLLDLLDLLURURRURRURRRRRRURRRURRURULLDLLLDLLDLLURURRURRURRRRRRURRRURRURULLDLLLDLLDLLURURRURRURRRRRRURRRURRURRURRRURRURRURULLDLLDLLLDLLDLLDLLLDLLDLLURURRURRURRRURRURRURRRURRRULLLLLDLLDLLDLLLDLLDLLDLLLDDLDLLDLLDLLLDDLDLLDLLDLLLDDLDLLDLLDLLLDDLDDLLDDDDLDLLURURULLDUURRULURRULURUULLDDLDDUUUUURRULLURRULLURRULURUULLDDUUURULURULURULURUULUUUUUUUUURRDDDDDRDDDDDDRDLDDRDDDDDDRDLDDRDDDDRRURRRURRURULLDLLLDLLDUURURRURRRRRRURRRURRURULLDLLLDLLDLLURURRURRURRRRRRURRRURRURULLDLLLDLLDLLURURRURRURRRRRRURRRURRURRURRRURRURRURRDRRULURULLLDLLDLLDLLLDLLDLLDLLLDLLDLLURURRURRURRRURRURRURRRURRURRURRDULULLDLLDLLLDLLDLLDLLLDLLDLLDLLLDDLDLLDLLDLLLDDLDLLDLLDLLLDDLDLLDLLDUURURRURULLDLLLURURRRRRRURRRURRURULLDLLLDLLDLLURURRURRURRRRRRURRRURRURULLDLLLDLLDLLURURRURRURRRRRRURRRURRURRURRRURRURRURRRURRRRULLLLLLDLLDLLDLLLDLLDLLDLLLDLLDLLURURRURRURRRURRURRURRRURRURRURRDRRRULLURRULLLLDLLDLLDLLLDLLDLLDLLLDLLDLLDLLLDDLDLLDLLDLLLDDLDLLDLLDLLLDDLDLLDUURURULLDUURRRRURRRURRURULLDLLLDLLDLLURURRURRURRRRRRURRRURRURULLDLLLDLLDLLURURRURRURRRRRRURRRURRURRURRRURRURRURRRURRURRURRDRUUULLDLLDLLDLLLDLLDLLDLLLDLLDLLDLLLDLLDLLURURRURRURRRURRURRURRRURRURRURRRURRURRURLLLLDLLLDLLDLLDLLLDLLDLLDLLLDLLDLLDLLLDDLDLLDLLDLLLDDLDLLDLLDLLLDDLUUURRURRRURRURULLDLLLDLLDLUURRURRURRRRRRURRRURRURULLDLLLDLLDLLURURRURRURRRRRRURRRURRURRURRRURRURRURRRURRURRLLLLLLDLULLDRDLLDLLLDLLDLLDLLLDLLDLLURURRURRURRRURRURRURRLULLDLLDLLLDLLDLLDLLLDDLDLLDLLDLLLDDLDLLDLLDLLUURRRURRURULLDLLLDLULURRRURRRRRRURRRURRURULLDLLLDLLDLLURURRURRURRRRRRURRRURRURRURRRLLLLLLDLLLDLLDLLURURRURRLLLLLLDDLDLLDLLDLLLDDLDLLDLLURURRURULLDLLLURURRRRRRURRRURRURULLDLLLDLLDLLURURRURRLLLLLLDDLDLLDUURURULLD\n"
     ]
    }
   ],
   "source": [
    "for i in range(1, 22):\n",
    "    solutions = list(destination_dir.glob(f'{i}_*'))\n",
    "    if len(solutions) == 0:\n",
    "        print(f'Lambdaman #{i} without solutions')\n",
    "        continue\n",
    "\n",
    "    if list(destination_dir.glob(f'{i}_*encoded')) != []:\n",
    "        print(f'skip {i}')\n",
    "        continue\n",
    "\n",
    "    best = min(solutions, key=lambda f: int(f.name.split('_')[1]))\n",
    "\n",
    "    print(f'Lambdaman #{i} {best.name}')\n",
    "\n",
    "    to_report_destination = reported_destination_dir / best.name\n",
    "    if to_report_destination.exists():\n",
    "        print('Skip: already reported')\n",
    "        continue\n",
    "\n",
    "    best_text = best.read_text().rstrip()\n",
    "    to_report = f'solve lambdaman{i} {best_text}'\n",
    "    print(f'report: {to_report}')\n",
    "\n",
    "    try:\n",
    "        response = com.com_raw(to_report, False)\n",
    "        if response.startswith('S=/22%#4'):\n",
    "            to_report_destination.write_text(response)\n",
    "        else:\n",
    "            print(f'incorrect: {response}')\n",
    "    except Exception as e:\n",
    "        print(f'exception {e}')\n",
    "        continue\n",
    "\n",
    "    sleep(1)\n",
    "    break"
   ]
  },
  {
   "cell_type": "code",
   "execution_count": 9,
   "metadata": {},
   "outputs": [],
   "source": [
    "def solve_lambdaman(i, search_parameters=None):\n",
    "    search_parameters = pywrapcp.DefaultRoutingSearchParameters()\n",
    "    search_parameters.first_solution_strategy = (\n",
    "        routing_enums_pb2.FirstSolutionStrategy.PATH_CHEAPEST_ARC\n",
    "    )\n",
    "\n",
    "    search_parameters.local_search_metaheuristic = (routing_enums_pb2.LocalSearchMetaheuristic.GUIDED_LOCAL_SEARCH)\n",
    "    search_parameters.time_limit.seconds = 1 * 60\n",
    "    search_parameters.log_search = True\n",
    "\n",
    "    print(f'\\n\\nLambdaman #{i}')\n",
    "    destination_dir = Path(f'solutions/lambdaman')\n",
    "    destination_dir.mkdir(exist_ok=True, parents=True)\n",
    "\n",
    "    lambdaman = Lambdaman(i)\n",
    "\n",
    "    print(f'\\nTask:\\n\\n{lambdaman.task_to_text()}')\n",
    "\n",
    "\n",
    "    solution = lambdaman.solve(search_parameters)\n",
    "    solution_text = lambdaman.solution_to_text(solution)\n",
    "\n",
    "    print(f'\\nSoluton: \\n{solution} \\n{solution_text}')\n",
    "\n",
    "    destination = destination_dir / f'{i}_{len(solution_text)}'\n",
    "    if destination.exists():\n",
    "        print(f'{destination} exists')\n",
    "        return\n",
    "\n",
    "    destination.write_text(solution_text)"
   ]
  },
  {
   "cell_type": "code",
   "execution_count": 5,
   "metadata": {},
   "outputs": [],
   "source": [
    "for i in range(1, 22):\n",
    "    if i in [6, 9, 10, 20, 21]:\n",
    "        continue\n",
    "\n",
    "    solve_lambdaman(i)"
   ]
  },
  {
   "cell_type": "code",
   "execution_count": null,
   "metadata": {},
   "outputs": [],
   "source": [
    "lex.char_to_index('')"
   ]
  },
  {
   "cell_type": "code",
   "execution_count": 10,
   "metadata": {},
   "outputs": [
    {
     "name": "stdout",
     "output_type": "stream",
     "text": [
      "\n",
      "\n",
      "Lambdaman #20\n"
     ]
    }
   ],
   "source": [
    "#decoded = lex.parse_token(Path('history/lambdaman/20').read_text().rstrip())\n",
    "#Path('history/lambdaman/20_encoded').write_text(Path('history/lambdaman/20').read_text())\n",
    "#Path('history/lambdaman/20').write_text(decoded)\n",
    "\n",
    "solve_lambdaman(20)"
   ]
  },
  {
   "cell_type": "code",
   "execution_count": 12,
   "metadata": {},
   "outputs": [
    {
     "name": "stdout",
     "output_type": "stream",
     "text": [
      "solutions/lambdaman/4_348\n",
      "solve lambdaman4 DDLLRRUURRLLLLLLUULLUURRLLDDRRDDRRUUUUDDDDRRUUUURRRRRRDDRRRRUURRLLDDRRLLLLLLUURRLLLLLLLLDDRRRRDDDDLLRRDDLLDDLLUUDDRRDDDDDDDDUURRDDUURRDDUULLLLUULLDDDDUUUUUULLDDDDDDLLRRUULLLLDDUUUURRUUDDLLDDRRRRUUUUUULLUURRLLUUDDDDLLUUUUUUDDDDDDDDUURRRRDDRRDDRRUURRLLUUUURRUURRRRLLUURRRRRRLLDDRRDDDDDDDDLLRRUULLRRUUUULLLLRRDDLLLLUUDDLLRRDDRRDDLLLLRRRRDDDDRRRRLLUURR\n"
     ]
    }
   ],
   "source": [
    "best_sol = find_best_soultuion(4)\n",
    "print(best_sol)\n",
    "best = best_sol.read_text().rstrip()\n",
    "\n",
    "to_report = get_msg_to_report(4, best)\n",
    "print(to_report)"
   ]
  },
  {
   "cell_type": "code",
   "execution_count": 22,
   "metadata": {},
   "outputs": [],
   "source": [
    "result_as_int = eval.string_to_int(to_report)"
   ]
  },
  {
   "cell_type": "code",
   "execution_count": 29,
   "metadata": {},
   "outputs": [],
   "source": [
    "import math"
   ]
  },
  {
   "cell_type": "code",
   "execution_count": 36,
   "metadata": {},
   "outputs": [
    {
     "data": {
      "text/plain": [
       "720"
      ]
     },
     "execution_count": 36,
     "metadata": {},
     "output_type": "execute_result"
    }
   ],
   "source": [
    "len(str(result_as_int))"
   ]
  },
  {
   "cell_type": "code",
   "execution_count": 37,
   "metadata": {},
   "outputs": [
    {
     "data": {
      "text/plain": [
       "547911151343290509960693502244388185430253030661747857032000840106370194023974304899275132128671808420857778078278535578831363205540468289816305129313817067955953836080300388744106330962958840619811251507036503483420612312122702458574256288985648398110597156143499094724794723000804287294958633779487193021140097353856330280613098022537977089033878079843009247"
      ]
     },
     "execution_count": 37,
     "metadata": {},
     "output_type": "execute_result"
    }
   ],
   "source": [
    "sq = math.isqrt(result_as_int)\n",
    "sq"
   ]
  },
  {
   "cell_type": "code",
   "execution_count": 41,
   "metadata": {},
   "outputs": [
    {
     "data": {
      "text/plain": [
       "360"
      ]
     },
     "execution_count": 41,
     "metadata": {},
     "output_type": "execute_result"
    }
   ],
   "source": [
    "len(str(sq))"
   ]
  },
  {
   "cell_type": "code",
   "execution_count": 43,
   "metadata": {},
   "outputs": [
    {
     "data": {
      "text/plain": [
       "360"
      ]
     },
     "execution_count": 43,
     "metadata": {},
     "output_type": "execute_result"
    }
   ],
   "source": [
    "len(str(result_as_int - sq * sq))"
   ]
  },
  {
   "cell_type": "code",
   "execution_count": 21,
   "metadata": {},
   "outputs": [],
   "source": [
    "str_body = com.encode_string(to_report)"
   ]
  },
  {
   "cell_type": "code",
   "execution_count": 17,
   "metadata": {},
   "outputs": [],
   "source": [
    "i = lex.parse_int(str_body)"
   ]
  },
  {
   "cell_type": "code",
   "execution_count": 18,
   "metadata": {},
   "outputs": [
    {
     "data": {
      "text/plain": [
       "300206629766330197997729457374960632619652066896697301302258012334633698376226954187872302564907303282937994303401594261228742031277045667648743399886195080836227115482867556478096946306079559747817617535715276032145738061077486434736806569996113488864252096921812531724510775791555545097323210110658056887987118668369004903023181089338643732176790389661536267143256395585501849871972937873734449204384958257867506494430472923711955025554820370416287572691179387517578273525440530145429246742238686786239340609209108728388552517209278936233583830987145518420005924509887629006491001371852875501451900916412767604674469418164629427930876446503600359670210911053741832749479974372484437347842550614349720775566547655835437"
      ]
     },
     "execution_count": 18,
     "metadata": {},
     "output_type": "execute_result"
    }
   ],
   "source": [
    "i"
   ]
  },
  {
   "cell_type": "code",
   "execution_count": 20,
   "metadata": {},
   "outputs": [
    {
     "data": {
      "text/plain": [
       "300206629766330197997729457374960632619652066896697301302258012334633698376226954187872302564907303282937994303401594261228742031277045667648743399886195080836227115482867556478096946306079559747817617535715276032145738061077486434736806569996113488864252096921812531724510775791555545097323210110658056887987118668369004903023181089338643732176790389661536267143256395585501849871972937873734449204384958257867506494430472923711955025554820370416287572691179387517578273525440530145429246742238686786239340609209108728388552517209278936233583830987145518420005924509887629006491001371852875501451900916412767604674469418164629427930876446503600359670210911053741832749479974372484437347842550614349720775566547655835437"
      ]
     },
     "execution_count": 20,
     "metadata": {},
     "output_type": "execute_result"
    }
   ],
   "source": [
    "eval.string_to_int(to_report)"
   ]
  },
  {
   "cell_type": "code",
   "execution_count": null,
   "metadata": {},
   "outputs": [],
   "source": []
  }
 ],
 "metadata": {
  "kernelspec": {
   "display_name": "Python 3",
   "language": "python",
   "name": "python3"
  },
  "language_info": {
   "codemirror_mode": {
    "name": "ipython",
    "version": 3
   },
   "file_extension": ".py",
   "mimetype": "text/x-python",
   "name": "python",
   "nbconvert_exporter": "python",
   "pygments_lexer": "ipython3",
   "version": "3.11.6"
  }
 },
 "nbformat": 4,
 "nbformat_minor": 2
}
