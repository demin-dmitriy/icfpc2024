{
 "cells": [
  {
   "cell_type": "code",
   "execution_count": 3,
   "metadata": {},
   "outputs": [],
   "source": [
    "from lambdaman_solver import Lambdaman\n",
    "\n",
    "from ortools.constraint_solver import routing_enums_pb2\n",
    "from ortools.constraint_solver import pywrapcp\n",
    "\n",
    "from pathlib import Path\n",
    "from pathlib import Path\n",
    "from time import sleep\n",
    "\n",
    "import com"
   ]
  },
  {
   "cell_type": "code",
   "execution_count": null,
   "metadata": {},
   "outputs": [],
   "source": [
    "#destination_dir = Path(f'solutions/lambdaman')\n",
    "#reported_destination_dir = destination_dir / 'reported'\n",
    "#reported_destination_dir.mkdir(exist_ok=True)\n",
    "\n",
    "#for i in range(1, 22):\n",
    "#    solutions = list(destination_dir.glob(f'{i}_*'))\n",
    "#    if len(solutions) == 0:\n",
    "#        print(f'Lambdaman #{i} without solutions')\n",
    "#        continue\n",
    "\n",
    "#    best = min(solutions, key=lambda f: int(f.name.split('_')[1]))\n",
    "\n",
    "#    print(f'Lambdaman #{i} {best.name}')\n",
    "\n",
    "#    to_report_destination = reported_destination_dir / best.name\n",
    "#    if to_report_destination.exists():\n",
    "#        print('Skip: already reported')\n",
    "#        continue\n",
    "\n",
    "#    best_text = best.read_text().rstrip()\n",
    "#    to_report = f'solve lambdaman{i} {best_text}'\n",
    "#    print(f'report: {to_report}')\n",
    "\n",
    "#    try:\n",
    "#        response = com.com_raw(to_report)\n",
    "#        if response.startswith('S=/22%#4'):\n",
    "#            to_report_destination.write_text(response)\n",
    "#        else:\n",
    "#            print(f'incorrect: {response}')\n",
    "#    except:\n",
    "#        continue\n",
    "\n",
    "#    sleep(1)\n",
    "#    #break"
   ]
  },
  {
   "cell_type": "code",
   "execution_count": 4,
   "metadata": {},
   "outputs": [],
   "source": [
    "def solve_lambdaman(i, search_parameters=None):\n",
    "    search_parameters = pywrapcp.DefaultRoutingSearchParameters()\n",
    "    search_parameters.first_solution_strategy = (\n",
    "        routing_enums_pb2.FirstSolutionStrategy.PATH_CHEAPEST_ARC\n",
    "    )\n",
    "\n",
    "    search_parameters.local_search_metaheuristic = (routing_enums_pb2.LocalSearchMetaheuristic.GUIDED_LOCAL_SEARCH)\n",
    "    search_parameters.time_limit.seconds = 30 * 60\n",
    "    search_parameters.log_search = True\n",
    "\n",
    "    print(f'\\n\\nLambdaman #{i}')\n",
    "    destination_dir = Path(f'solutions/lambdaman')\n",
    "    destination_dir.mkdir(exist_ok=True, parents=True)\n",
    "\n",
    "    lambdaman = Lambdaman(i)\n",
    "\n",
    "    print(f'\\nTask:\\n\\n{lambdaman.task_to_text()}')\n",
    "\n",
    "\n",
    "    solution = lambdaman.solve(search_parameters)\n",
    "    solution_text = lambdaman.solution_to_text(solution)\n",
    "\n",
    "    print(f'\\nSoluton: \\n{solution} \\n{solution_text}')\n",
    "\n",
    "    destination = destination_dir / f'{i}_{len(solution_text)}'\n",
    "    if destination.exists():\n",
    "        print(f'{destination} exists')\n",
    "        return\n",
    "\n",
    "    destination.write_text(solution_text)"
   ]
  },
  {
   "cell_type": "code",
   "execution_count": 5,
   "metadata": {},
   "outputs": [],
   "source": [
    "for i in range(1, 22):\n",
    "    if i in [6, 9, 10, 20, 21]:\n",
    "        continue\n",
    "\n",
    "    solve_lambdaman(i)"
   ]
  },
  {
   "cell_type": "code",
   "execution_count": null,
   "metadata": {},
   "outputs": [],
   "source": []
  }
 ],
 "metadata": {
  "kernelspec": {
   "display_name": "Python 3",
   "language": "python",
   "name": "python3"
  },
  "language_info": {
   "codemirror_mode": {
    "name": "ipython",
    "version": 3
   },
   "file_extension": ".py",
   "mimetype": "text/x-python",
   "name": "python",
   "nbconvert_exporter": "python",
   "pygments_lexer": "ipython3",
   "version": "3.11.6"
  }
 },
 "nbformat": 4,
 "nbformat_minor": 2
}
