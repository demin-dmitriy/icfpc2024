{
 "cells": [
  {
   "cell_type": "code",
   "execution_count": 193,
   "metadata": {},
   "outputs": [
    {
     "name": "stdout",
     "output_type": "stream",
     "text": [
      "The autoreload extension is already loaded. To reload it, use:\n",
      "  %reload_ext autoreload\n"
     ]
    }
   ],
   "source": [
    "%load_ext autoreload\n",
    "%autoreload complete\n",
    "\n",
    "from string_compression import ICFP, Human\n",
    "import lex\n",
    "\n",
    "import math\n",
    "from pathlib import Path"
   ]
  },
  {
   "cell_type": "code",
   "execution_count": 215,
   "metadata": {},
   "outputs": [],
   "source": [
    "x = lex.parse_int('x')\n",
    "vx = ICFP.var(x)\n",
    "lx = ICFP.lam(x)\n",
    "\n",
    "y = lex.parse_int('y')\n",
    "vy = ICFP.var(y)\n",
    "\n",
    "z = lex.parse_int('z')\n",
    "vz = ICFP.var(z)\n",
    "\n",
    "u = lex.parse_int('u')\n",
    "vu = ICFP.var(u)\n",
    "\n",
    "w = lex.parse_int('w')\n",
    "vw = ICFP.var(w)\n",
    "\n",
    "f = lex.parse_int('f')\n",
    "vf = ICFP.var(f)\n",
    "lf = ICFP.lam(f)\n",
    "\n",
    "#'x', 'y', 'z', 'w', 'u', 'v', 's', 't', 'a', 'b', 'c', 'd'"
   ]
  },
  {
   "cell_type": "code",
   "execution_count": 3,
   "metadata": {},
   "outputs": [],
   "source": [
    "def concat(*strs: ICFP) -> ICFP:\n",
    "    if len(strs) == 0:\n",
    "        return ICFP.str('')\n",
    "\n",
    "    if len(strs) == 0:\n",
    "        return strs[0]\n",
    "\n",
    "    result = [\n",
    "        f'B. {strs[i]} '\n",
    "        for i in range(len(strs) - 1)\n",
    "    ] + [\n",
    "        strs[-1].value\n",
    "    ]\n",
    "\n",
    "    return ICFP(\n",
    "        ''.join(result)\n",
    "    )"
   ]
  },
  {
   "cell_type": "code",
   "execution_count": 4,
   "metadata": {},
   "outputs": [
    {
     "name": "stdout",
     "output_type": "stream",
     "text": [
      "[I]: B. SV B. SWW SXXX\n",
      "[-]: '1' ++ ('22' ++ '333')\n",
      "[O]: 122333\n"
     ]
    }
   ],
   "source": [
    "concat(\n",
    "    ICFP.str('1'),\n",
    "    ICFP.str('22'),\n",
    "    ICFP.str('333'),\n",
    "    #vx,\n",
    ").info()"
   ]
  },
  {
   "cell_type": "code",
   "execution_count": 10,
   "metadata": {},
   "outputs": [],
   "source": [
    "def lambda_concat_times(var_index: int, times: int) -> ICFP:\n",
    "    lam = ICFP.lam(var_index)\n",
    "    var = ICFP.var(var_index)\n",
    "\n",
    "    return lam + concat(*[var] * times)"
   ]
  },
  {
   "cell_type": "code",
   "execution_count": 11,
   "metadata": {},
   "outputs": [
    {
     "name": "stdout",
     "output_type": "stream",
     "text": [
      "[I]: Lx B. vx B. vx B. vx vx\n",
      "[-]: λ d. (d ++ (d ++ (d ++ d)))\n",
      "[O]: <function eval_tokens.<locals>.<lambda> at 0x724bedb4f740>\n"
     ]
    }
   ],
   "source": [
    "lambda_concat_times(x, 4).info()"
   ]
  },
  {
   "cell_type": "code",
   "execution_count": 7,
   "metadata": {},
   "outputs": [],
   "source": [
    "def apply_lambda(lam: ICFP, arg: ICFP) -> ICFP:\n",
    "    return ICFP.apply() + lam + arg"
   ]
  },
  {
   "cell_type": "code",
   "execution_count": 12,
   "metadata": {},
   "outputs": [
    {
     "name": "stdout",
     "output_type": "stream",
     "text": [
      "[I]: B$ Lx B. vx B. vx B. vx vx S()\n",
      "[-]: (λ d. (d ++ (d ++ (d ++ d))))('hi')\n",
      "[O]: hihihihi\n"
     ]
    }
   ],
   "source": [
    "apply_lambda(\n",
    "    lambda_concat_times(x, 4),\n",
    "    ICFP.str('hi')\n",
    ").info()"
   ]
  },
  {
   "cell_type": "code",
   "execution_count": 15,
   "metadata": {},
   "outputs": [],
   "source": [
    "def repeat_apply(lam: ICFP, initial_arg: ICFP, times: int) -> ICFP:\n",
    "    return ICFP(f'{ICFP.apply()} {lam} ' * (times) + initial_arg.value)"
   ]
  },
  {
   "cell_type": "code",
   "execution_count": 16,
   "metadata": {},
   "outputs": [
    {
     "name": "stdout",
     "output_type": "stream",
     "text": [
      "[I]: B$ Lx B. vx B. vx B. vx vx B$ Lx B. vx B. vx B. vx vx SFIF\n",
      "[-]: (λ d. (d ++ (d ++ (d ++ d))))((λ d. (d ++ (d ++ (d ++ d))))('LOL'))\n",
      "[O]: LOLLOLLOLLOLLOLLOLLOLLOLLOLLOLLOLLOLLOLLOLLOLLOL\n"
     ]
    }
   ],
   "source": [
    "repeat_apply(\n",
    "    lambda_concat_times(x, 4),\n",
    "    ICFP.str('LOL'),\n",
    "    2,\n",
    ").info()"
   ]
  },
  {
   "cell_type": "code",
   "execution_count": 205,
   "metadata": {},
   "outputs": [
    {
     "data": {
      "text/plain": [
       "B$ Lx B. vx B. vx vx B$ Lx B. vx B. vx vx B$ Lx B. vx B. vx vx B$ Lx B. vx B. vx vx B$ Lx B. vx B. vx vx SF$$"
      ]
     },
     "execution_count": 205,
     "metadata": {},
     "output_type": "execute_result"
    }
   ],
   "source": [
    "repeat_apply(\n",
    "    lambda_concat_times(x, 3),\n",
    "    ICFP.str('Ldd'),\n",
    "    5,\n",
    ")"
   ]
  },
  {
   "cell_type": "code",
   "execution_count": 17,
   "metadata": {},
   "outputs": [],
   "source": [
    "def lambda_repeat_apply(var_index: int, apply_lam: ICFP, times: int) -> ICFP:\n",
    "    lam = ICFP.lam(var_index)\n",
    "    var = ICFP.var(var_index)\n",
    "    body = repeat_apply(apply_lam, var, times)\n",
    "\n",
    "    return lam + body\n"
   ]
  },
  {
   "cell_type": "code",
   "execution_count": 18,
   "metadata": {},
   "outputs": [
    {
     "name": "stdout",
     "output_type": "stream",
     "text": [
      "[I]: Lx B$ vy B$ vy B$ vy vx\n",
      "[-]: λ d. (c(c(c(d))))\n",
      "[O]: <function eval_tokens.<locals>.<lambda> at 0x724beec11940>\n"
     ]
    }
   ],
   "source": [
    "lambda_repeat_apply(x, vy, 3).info()"
   ]
  },
  {
   "cell_type": "code",
   "execution_count": 27,
   "metadata": {},
   "outputs": [],
   "source": [
    "def let(lhs_index: int, rhs: ICFP, expr: ICFP) -> ICFP:\n",
    "    lam = ICFP.lam(lhs_index)\n",
    "    assert ICFP.var(lhs_index).value in expr.value\n",
    "\n",
    "    return apply_lambda(\n",
    "        lam + expr,\n",
    "        rhs,\n",
    "    )"
   ]
  },
  {
   "cell_type": "code",
   "execution_count": 29,
   "metadata": {},
   "outputs": [
    {
     "name": "stdout",
     "output_type": "stream",
     "text": [
      "[I]: B$ Lx B. vx vx S()\n",
      "[-]: (λ d. (d ++ d))('hi')\n",
      "[O]: hihi\n"
     ]
    }
   ],
   "source": [
    "let(x, ICFP.str('hi'),\n",
    "    concat(vx, vx)\n",
    ").info()"
   ]
  },
  {
   "cell_type": "code",
   "execution_count": 62,
   "metadata": {},
   "outputs": [],
   "source": [
    "def op_equal(lhs: ICFP, rhs: ICFP) -> ICFP:\n",
    "    return ICFP.eq_() + lhs + rhs\n",
    "\n",
    "def op_if(condition: ICFP, if_true: ICFP, if_false: ICFP) -> ICFP:\n",
    "    return ICFP.if_() + condition + if_true + if_false\n",
    "\n",
    "def op_sub(lhs: ICFP, rhs: ICFP) -> ICFP:\n",
    "    return ICFP('B-') + lhs + rhs"
   ]
  },
  {
   "cell_type": "code",
   "execution_count": 38,
   "metadata": {},
   "outputs": [
    {
     "name": "stdout",
     "output_type": "stream",
     "text": [
      "[I]: ? B= S() S) I\" I!\n",
      "[-]: if ('hi' == 'i') { 1 } else { 0 }\n",
      "[O]: 0\n"
     ]
    }
   ],
   "source": [
    "op_if(\n",
    "    op_equal(ICFP.str('hi'), ICFP.str('i')),\n",
    "    ICFP.int(1),\n",
    "    ICFP.int(0),\n",
    ").info()"
   ]
  },
  {
   "cell_type": "code",
   "execution_count": 80,
   "metadata": {},
   "outputs": [],
   "source": [
    "def y_combinator(self_lambda_index: int, lam: ICFP):\n",
    "    assert ICFP.var(self_lambda_index).value in lam.value\n",
    "\n",
    "    return ICFP(f'B$ L\" B$ L# B$ v\" B$ v# v# L# B$ v\" B$ v# v# {ICFP.lam(self_lambda_index)} ' + lam.value)\n"
   ]
  },
  {
   "cell_type": "code",
   "execution_count": 83,
   "metadata": {},
   "outputs": [
    {
     "name": "stdout",
     "output_type": "stream",
     "text": [
      "[I]: B$ B$ L\" B$ L# B$ v\" B$ v# v# L# B$ v\" B$ v# v# Lf Lx ? B= vx I! S:%2/ B. B$ vf B- vx I\" S)4%2 I#\n",
      "[-]: ((λ d. ((λ c. (d(c(c))))(λ c. (d(c(c))))))(λ b. (λ a. (if (a == 0) { 'zero' } else { (b(a - 1)) ++ 'iter' }))))(2)\n",
      "[O]: zeroiteriter\n"
     ]
    }
   ],
   "source": [
    "apply_lambda(\n",
    "    y_combinator(f,\n",
    "        lx + op_if(op_equal(vx, ICFP.int(0)),\n",
    "            ICFP.str('zero'),\n",
    "            concat(\n",
    "                apply_lambda(vf, op_sub(vx, ICFP.int(1))),\n",
    "                ICFP.str('iter'),\n",
    "            )\n",
    "        )\n",
    "    ),\n",
    "    ICFP.int(2),\n",
    ").info()"
   ]
  },
  {
   "cell_type": "code",
   "execution_count": 99,
   "metadata": {},
   "outputs": [],
   "source": [
    "def repeate_str_recursive(s: ICFP, times: int, initial: ICFP | None = None):\n",
    "    return apply_lambda(\n",
    "        y_combinator(f,\n",
    "            ICFP.lam(w) + op_if(op_equal(vw, ICFP.int(0)),\n",
    "                initial if initial is not None else ICFP.str(''),\n",
    "                concat(\n",
    "                    apply_lambda(vf, op_sub(vw, ICFP.int(1))),\n",
    "                    s,\n",
    "                )\n",
    "            )\n",
    "        ),\n",
    "        ICFP.int(times),\n",
    "    )"
   ]
  },
  {
   "cell_type": "code",
   "execution_count": 100,
   "metadata": {},
   "outputs": [
    {
     "name": "stdout",
     "output_type": "stream",
     "text": [
      "[I]: B$ B$ L\" B$ L# B$ v\" B$ v# v# L# B$ v\" B$ v# v# Lf Lw ? B= vw I! S B. B$ vf B- vw I\" S() I+]\n",
      "[-]: ((λ d. ((λ c. (d(c(c))))(λ c. (d(c(c))))))(λ b. (λ a. (if (a == 0) { '' } else { (b(a - 1)) ++ 'hi' }))))(1000)\n",
      "[O]: hihihihihihihihihihihihihihihihihihihihihihihihihihihihihihihihihihihihihihihihihihihihihihihihihihihihihihihihihihihihihihihihihihihihihihihihihihihihihihihihihihihihihihihihihihihihihihihihihihihihihihihihihihihihihihihihihihihihihihihihihihihihihihihihihihihihihihihihihihihihihihihihihihihihihihihihihihihihihihihihihihihihihihihihihihihihihihihihihihihihihihihihihihihihihihihihihihihihihihihihihihihihihihihihihihihihihihihihihihihihihihihihihihihihihihihihihihihihihihihihihihihihihihihihihihihihihihihihihihihihihihihihihihihihihihihihihihihihihihihihihihihihihihihihihihihihihihihihihihihihihihihihihihihihihihihihihihihihihihihihihihihihihihihihihihihihihihihihihihihihihihihihihihihihihihihihihihihihihihihihihihihihihihihihihihihihihihihihihihihihihihihihihihihihihihihihihihihihihihihihihihihihihihihihihihihihihihihihihihihihihihihihihihihihihihihihihihihihihihihihihihihihihihihihihihihihihihihihihihihihihihihihihihihihihihihihihihihihihihihihihihihihihihihihihihihihihihihihihihihihihihihihihihihihihihihihihihihihihihihihihihihihihihihihihihihihihihihihihihihihihihihihihihihihihihihihihihihihihihihihihihihihihihihihihihihihihihihihihihihihihihihihihihihihihihihihihihihihihihihihihihihihihihihihihihihihihihihihihihihihihihihihihihihihihihihihihihihihihihihihihihihihihihihihihihihihihihihihihihihihihihihihihihihihihihihihihihihihihihihihihihihihihihihihihihihihihihihihihihihihihihihihihihihihihihihihihihihihihihihihihihihihihihihihihihihihihihihihihihihihihihihihihihihihihihihihihihihihihihihihihihihihihihihihihihihihihihihihihihihihihihihihihihihihihihihihihihihihihihihihihihihihihihihihihihihihihihihihihihihihihihihihihihihihihihihihihihihihihihihihihihihihihihihihihihihihihihihihihihihihihihihihihihihihihihihihihihihihihihihihihihihihihihihihihihihihihihihihihihihihihihihihihihihihihihihihihihihihihihihihihihihihihihihihihihihihihihihihihihihihihihihihihihihihihihihihihihihihihihihihihihihihihihihihihihihihihihihihihihihihihihihihihihihihihihihihihihihihihihihihi\n"
     ]
    }
   ],
   "source": [
    "repeate_str_recursive(ICFP.str('hi'), 1000).info()"
   ]
  },
  {
   "cell_type": "code",
   "execution_count": 101,
   "metadata": {},
   "outputs": [],
   "source": [
    "def lambda_repate_recursive(var_index: int, times: int) -> ICFP:\n",
    "    lam = ICFP.lam(var_index)\n",
    "    var = ICFP.var(var_index)\n",
    "\n",
    "    return lam + apply_lambda(\n",
    "        y_combinator(f,\n",
    "            ICFP.lam(w) + op_if(op_equal(vw, ICFP.int(0)),\n",
    "                var,\n",
    "                concat(\n",
    "                    apply_lambda(vf, op_sub(vw, ICFP.int(1))),\n",
    "                    var,\n",
    "                )\n",
    "            )\n",
    "        ),\n",
    "        ICFP.int(times - 1),\n",
    "    )"
   ]
  },
  {
   "cell_type": "code",
   "execution_count": 103,
   "metadata": {},
   "outputs": [
    {
     "name": "stdout",
     "output_type": "stream",
     "text": [
      "[I]: B$ Ly B$ B$ L\" B$ L# B$ v\" B$ v# v# L# B$ v\" B$ v# v# Lf Lw ? B= vw I! vy B. B$ vf B- vw I\" vy I* S()\n",
      "[-]: (λ d. (((λ c. ((λ b. (c(b(b))))(λ b. (c(b(b))))))(λ a. (λ t. (if (t == 0) { d } else { (a(t - 1)) ++ d }))))(9)))('hi')\n",
      "[O]: hihihihihihihihihihi\n"
     ]
    }
   ],
   "source": [
    "apply_lambda(\n",
    "    lambda_repate_recursive(y, 10),\n",
    "    ICFP.str('hi')\n",
    ").info()"
   ]
  },
  {
   "cell_type": "code",
   "execution_count": 118,
   "metadata": {},
   "outputs": [],
   "source": [
    "def lambda_repeat_at_least(var_index: int, times: int) -> ICFP:\n",
    "    alternatives = [\n",
    "        lambda_concat_times(var_index, times),\n",
    "        lambda_repate_recursive(var_index, times),\n",
    "    ]\n",
    "\n",
    "    for concat_times in range(1, math.isqrt(times) + 2):\n",
    "        concat = lambda_concat_times(11, concat_times)\n",
    "\n",
    "        for repeat_apply_times in range(2, times + 1):\n",
    "            if concat_times ** repeat_apply_times < times:\n",
    "                continue\n",
    "\n",
    "            without_let = lambda_repeat_apply(var_index, concat, repeat_apply_times)\n",
    "            with_let = let(\n",
    "                u, concat,\n",
    "                lambda_repeat_apply(var_index, vu, repeat_apply_times),\n",
    "            )\n",
    "\n",
    "            alternatives += [without_let, with_let]\n",
    "\n",
    "            break\n",
    "\n",
    "    return min(\n",
    "        alternatives,\n",
    "        key=lambda a: len(a.value)\n",
    "    )\n"
   ]
  },
  {
   "cell_type": "code",
   "execution_count": 125,
   "metadata": {},
   "outputs": [
    {
     "data": {
      "text/plain": [
       "Lx B$ B$ L\" B$ L# B$ v\" B$ v# v# L# B$ v\" B$ v# v# Lf Lw ? B= vw I! vx B. B$ vf B- vw I\" vx I%sB*"
      ]
     },
     "execution_count": 125,
     "metadata": {},
     "output_type": "execute_result"
    }
   ],
   "source": [
    "lambda_repeat_at_least(x, )"
   ]
  },
  {
   "cell_type": "code",
   "execution_count": 217,
   "metadata": {},
   "outputs": [],
   "source": [
    "def repeate_string_with_base_exp_at_least(s: str, times: int):\n",
    "    alternatives = []\n",
    "    for base in range(math.isqrt(times) + 1):\n",
    "        for exp in range(2, times):\n",
    "            if base ** exp >= times:\n",
    "                alternatives.append(\n",
    "                    apply_lambda(\n",
    "                        lf + repeat_apply(\n",
    "                            vf,\n",
    "                            ICFP.str(s),\n",
    "                            exp\n",
    "                        ),\n",
    "                        lambda_concat_times(x, base)\n",
    "                    )\n",
    "                )\n",
    "                break\n",
    "\n",
    "    if len(alternatives) == 0:\n",
    "        print(f'{times} times {len(s)} len str {s}')\n",
    "\n",
    "    return min(\n",
    "        alternatives,\n",
    "        key=lambda a: len(a.value)\n",
    "    )\n",
    "\n",
    "\n",
    "def repeate_string_at_least(s: str, times: int) -> ICFP:\n",
    "    smallest_string = s * times\n",
    "    alternatives = [\n",
    "        ICFP.str(smallest_string),\n",
    "        Human(smallest_string).div_mod_compact(),\n",
    "    ]\n",
    "\n",
    "    for i in range(1, times + 1):\n",
    "        new_s = s * i\n",
    "        new_t = math.ceil(len(smallest_string) / len(new_s))\n",
    "\n",
    "        alternatives.append(\n",
    "            apply_lambda(\n",
    "                lambda_repeat_at_least(x, new_t),\n",
    "                ICFP.str(new_s)\n",
    "            )\n",
    "        )\n",
    "\n",
    "\n",
    "        if new_t > 3:\n",
    "            alternatives.append(\n",
    "                repeate_string_with_base_exp_at_least(new_s, new_t)\n",
    "            )\n",
    "\n",
    "\n",
    "    return min(\n",
    "        alternatives,\n",
    "        key=lambda a: len(a.value)\n",
    "    )"
   ]
  },
  {
   "cell_type": "code",
   "execution_count": 222,
   "metadata": {},
   "outputs": [
    {
     "name": "stdout",
     "output_type": "stream",
     "text": [
      "[I]: B$ Lf B$ vf B$ vf B$ vf B$ vf S;;;; Lx B. vx B. vx B. vx vx\n",
      "[-]: (λ d. (d(d(d(d('AAAA'))))))(λ c. (c ++ (c ++ (c ++ c))))\n",
      "[O]: AAAAAAAAAAAAAAAAAAAAAAAAAAAAAAAAAAAAAAAAAAAAAAAAAAAAAAAAAAAAAAAAAAAAAAAAAAAAAAAAAAAAAAAAAAAAAAAAAAAAAAAAAAAAAAAAAAAAAAAAAAAAAAAAAAAAAAAAAAAAAAAAAAAAAAAAAAAAAAAAAAAAAAAAAAAAAAAAAAAAAAAAAAAAAAAAAAAAAAAAAAAAAAAAAAAAAAAAAAAAAAAAAAAAAAAAAAAAAAAAAAAAAAAAAAAAAAAAAAAAAAAAAAAAAAAAAAAAAAAAAAAAAAAAAAAAAAAAAAAAAAAAAAAAAAAAAAAAAAAAAAAAAAAAAAAAAAAAAAAAAAAAAAAAAAAAAAAAAAAAAAAAAAAAAAAAAAAAAAAAAAAAAAAAAAAAAAAAAAAAAAAAAAAAAAAAAAAAAAAAAAAAAAAAAAAAAAAAAAAAAAAAAAAAAAAAAAAAAAAAAAAAAAAAAAAAAAAAAAAAAAAAAAAAAAAAAAAAAAAAAAAAAAAAAAAAAAAAAAAAAAAAAAAAAAAAAAAAAAAAAAAAAAAAAAAAAAAAAAAAAAAAAAAAAAAAAAAAAAAAAAAAAAAAAAAAAAAAAAAAAAAAAAAAAAAAAAAAAAAAAAAAAAAAAAAAAAAAAAAAAAAAAAAAAAAAAAAAAAAAAAAAAAAAAAAAAAAAAAAAAAAAAAAAAAAAAAAAAAAAAAAAAAAAAAAAAAAAAAAAAAAAAAAAAAAAAAAAAAAAAAAAAAAAAAAAAAAAAAAAAAAAAAAAAAAAAAAAAAAAAAAAAAAAAAAAAAAAAAAAAAAAAAAAAAAAAAAAAAAAAAAAAAAAAAAAAAAAAAAAAAAAAAAAAAAAAAAAAAAAAAAAAAAAAAAAAAAAAAAAAAAAAAAAAAAAAAAAAAAAAAAAAAAAAAAAAAAAAAAAAAAAAAAAAAAAAAAAAAAAAAAAAAAAAAAAAAAAAAAAAAAAAAAAAAAAAAAAAAAAAAAAAAAAAAAAAAAAAAAAAAAAAAAAAAAAAAAAAAAAAAAA\n"
     ]
    }
   ],
   "source": [
    "repeate_string_at_least('A', 1000).info()"
   ]
  },
  {
   "cell_type": "code",
   "execution_count": 223,
   "metadata": {},
   "outputs": [
    {
     "name": "stdout",
     "output_type": "stream",
     "text": [
      "[I]: B. S3/,6%},!-\"$!-!.[} B$ Lf B$ vf B$ vf B$ vf SLLLLLLLL Lx B. vx B. vx vx\n",
      "[-]: 'solve lambdaman6 ' ++ ((λ d. (d(d(d('RRRRRRRR')))))(λ c. (c ++ (c ++ c))))\n",
      "[O]: solve lambdaman6 RRRRRRRRRRRRRRRRRRRRRRRRRRRRRRRRRRRRRRRRRRRRRRRRRRRRRRRRRRRRRRRRRRRRRRRRRRRRRRRRRRRRRRRRRRRRRRRRRRRRRRRRRRRRRRRRRRRRRRRRRRRRRRRRRRRRRRRRRRRRRRRRRRRRRRRRRRRRRRRRRRRRRRRRRRRRRRRRRRRRRRRRRRRRRRRRRRRRRRRRRRRRRRRRRRRRRRRR\n"
     ]
    }
   ],
   "source": [
    "lambdaman6 = ICFP(Path('solutions/lambdaman/compact/6_73').read_text())\n",
    "lambdaman6.info()"
   ]
  },
  {
   "cell_type": "code",
   "execution_count": 226,
   "metadata": {},
   "outputs": [
    {
     "name": "stdout",
     "output_type": "stream",
     "text": [
      "[51]: B$ Lf B$ vf B$ vf B$ vf S;;;;;;;; Lx B. vx B. vx vx\n",
      "[-]: (λ d. (d(d(d('AAAAAAAA')))))(λ c. (c ++ (c ++ c)))\n",
      "[O]: AAAAAAAAAAAAAAAAAAAAAAAAAAAAAAAAAAAAAAAAAAAAAAAAAAAAAAAAAAAAAAAAAAAAAAAAAAAAAAAAAAAAAAAAAAAAAAAAAAAAAAAAAAAAAAAAAAAAAAAAAAAAAAAAAAAAAAAAAAAAAAAAAAAAAAAAAAAAAAAAAAAAAAAAAAAAAAAAAAAAAAAAAAAAAAAAAAAAAAAAAAAAAAAAAAAAAAAA\n"
     ]
    }
   ],
   "source": [
    "repeate_string_at_least('A', 199).info()"
   ]
  },
  {
   "cell_type": "code",
   "execution_count": 227,
   "metadata": {},
   "outputs": [
    {
     "name": "stdout",
     "output_type": "stream",
     "text": [
      "[73]: B. S3/,6%},!-\"$!-!.[} B$ Lf B$ vf B$ vf B$ vf S;;;;;;;; Lx B. vx B. vx vx\n",
      "[-]: 'solve lambdaman6 ' ++ ((λ d. (d(d(d('AAAAAAAA')))))(λ c. (c ++ (c ++ c))))\n",
      "[O]: solve lambdaman6 AAAAAAAAAAAAAAAAAAAAAAAAAAAAAAAAAAAAAAAAAAAAAAAAAAAAAAAAAAAAAAAAAAAAAAAAAAAAAAAAAAAAAAAAAAAAAAAAAAAAAAAAAAAAAAAAAAAAAAAAAAAAAAAAAAAAAAAAAAAAAAAAAAAAAAAAAAAAAAAAAAAAAAAAAAAAAAAAAAAAAAAAAAAAAAAAAAAAAAAAAAAAAAAAAAAAAAAA\n"
     ]
    }
   ],
   "source": [
    "concat(\n",
    "    ICFP.str('solve lambdaman6 '),\n",
    "    repeate_string_at_least('A', 199),\n",
    ").info()"
   ]
  },
  {
   "cell_type": "code",
   "execution_count": 169,
   "metadata": {},
   "outputs": [
    {
     "data": {
      "text/plain": [
       "B$ Lj B. vj B. vj vj B$ Lj B. vj B. vj vj B$ Lj B. vj B. vj vj B$ Lj B. vj B. vj vj B$ Lj B. vj B. vj vj B$ Lj B. vj B. vj vj S;;"
      ]
     },
     "execution_count": 169,
     "metadata": {},
     "output_type": "execute_result"
    }
   ],
   "source": [
    "repeate_string_with_base_exp('AA', int(1000 / 2))"
   ]
  },
  {
   "cell_type": "code",
   "execution_count": 159,
   "metadata": {},
   "outputs": [
    {
     "data": {
      "text/plain": [
       "[[2, 7],\n",
       " [3, 5],\n",
       " [4, 4],\n",
       " [5, 3],\n",
       " [6, 3],\n",
       " [7, 3],\n",
       " [8, 3],\n",
       " [9, 3],\n",
       " [10, 2],\n",
       " [11, 2]]"
      ]
     },
     "execution_count": 159,
     "metadata": {},
     "output_type": "execute_result"
    }
   ],
   "source": [
    "find_all_pow(100)"
   ]
  },
  {
   "cell_type": "code",
   "execution_count": null,
   "metadata": {},
   "outputs": [],
   "source": [
    "def pow_string(s: z.ICFPString, base: int, exponent: int) -> z.ICFPString:\n",
    "    if base == 1:\n",
    "        return s\n",
    "\n",
    "    product = 'Lx' + ' B. vx' * (base - 1) + ' vx'\n",
    "    exp = 'Lf' + ' B$ vf' * exponent\n",
    "\n",
    "    return z.ICFPString(f'B$ {exp} {s.value} {product}')\n",
    "\n",
    "\n",
    "def repeat_string_at_least(s: z.HumanString, k: int):\n",
    "    assert 0 < k\n",
    "\n",
    "    sqrt = math.isqrt(k)\n",
    "\n",
    "    alternatives = [\n",
    "        z.HumanString(s.value * k).to_icfp(),\n",
    "        apply_lambda(product_lambda(k, 0), s.to_icfp().value),\n",
    "    ] + [\n",
    "        pow_string(s.to_icfp(), base, exp, 0, 1)\n",
    "        for base, exp in [(sqrt, sqrt), (sqrt, sqrt + 1), (sqrt + 1, sqrt)]\n",
    "        if base ** exp >= k\n",
    "    ]\n",
    "\n",
    "    return alternatives"
   ]
  },
  {
   "cell_type": "code",
   "execution_count": null,
   "metadata": {},
   "outputs": [],
   "source": [
    "s = '2'\n",
    "times = 10\n",
    "\n",
    "for i in range(1, times + 1):\n",
    "    new_s = s * i\n",
    "    new_times ="
   ]
  },
  {
   "cell_type": "code",
   "execution_count": 127,
   "metadata": {},
   "outputs": [
    {
     "data": {
      "text/plain": [
       "'1'"
      ]
     },
     "execution_count": 127,
     "metadata": {},
     "output_type": "execute_result"
    }
   ],
   "source": [
    "'134'[:1]"
   ]
  },
  {
   "cell_type": "code",
   "execution_count": null,
   "metadata": {},
   "outputs": [],
   "source": [
    "def y_combinator_repeat(expr: ICFP, times: int):\n"
   ]
  },
  {
   "cell_type": "code",
   "execution_count": 52,
   "metadata": {},
   "outputs": [
    {
     "data": {
      "text/plain": [
       "I!"
      ]
     },
     "execution_count": 52,
     "metadata": {},
     "output_type": "execute_result"
    }
   ],
   "source": [
    "ICFP.int(0)"
   ]
  },
  {
   "cell_type": "code",
   "execution_count": null,
   "metadata": {},
   "outputs": [],
   "source": [
    "y_combinator(f,\n",
    "    f'{ICFP.lam(x)} ? B= {vx} {ICFP.int(0)} {ICFP.str(\"finish\")} '\n",
    ")"
   ]
  },
  {
   "cell_type": "code",
   "execution_count": null,
   "metadata": {},
   "outputs": [],
   "source": [
    "'B$ B$ L\" B$ L# B$ v\" B$ v# v# L# B$ v\" B$ v# v# L\" '"
   ]
  },
  {
   "cell_type": "code",
   "execution_count": 45,
   "metadata": {},
   "outputs": [
    {
     "name": "stdout",
     "output_type": "stream",
     "text": [
      "[I]: L. B. B. B. B. v. v. v. v. v.\n",
      "[-]: λ d. ((((d ++ d) ++ d) ++ d) ++ d)\n",
      "[O]: <function eval_tokens.<locals>.<lambda> at 0x73169e7900e0>\n"
     ]
    }
   ],
   "source": [
    "alternatives[0].info()"
   ]
  },
  {
   "cell_type": "code",
   "execution_count": 58,
   "metadata": {},
   "outputs": [
    {
     "data": {
      "text/plain": [
       "87"
      ]
     },
     "execution_count": 58,
     "metadata": {},
     "output_type": "execute_result"
    }
   ],
   "source": [
    "lex.parse_int('x')"
   ]
  },
  {
   "cell_type": "code",
   "execution_count": 60,
   "metadata": {},
   "outputs": [
    {
     "data": {
      "text/plain": [
       "ICFP(B$ B$ L3 L. B$ v3 B$ v3 B$ v3 v. L, B. v, v,)"
      ]
     },
     "execution_count": 60,
     "metadata": {},
     "output_type": "execute_result"
    }
   ],
   "source": [
    "alternatives[2]"
   ]
  },
  {
   "cell_type": "code",
   "execution_count": 20,
   "metadata": {},
   "outputs": [
    {
     "name": "stdout",
     "output_type": "stream",
     "text": [
      "B$ L\" B. B. B. v\" v\" v\" v\" S()\n",
      "\n",
      "(λ d. (((d ++ d) ++ d) ++ d))('hi')\n",
      "\n",
      "hihihihi\n"
     ]
    }
   ],
   "source": [
    "apply_lambda(lambda_sum_concat(1, 4), z.ICFP.str('hi')).info()"
   ]
  },
  {
   "cell_type": "code",
   "execution_count": null,
   "metadata": {},
   "outputs": [],
   "source": [
    "def lambda_repeat_lambda"
   ]
  },
  {
   "cell_type": "code",
   "execution_count": null,
   "metadata": {},
   "outputs": [],
   "source": [
    "exp = 'Lf' + ' B$ vf' * exponent"
   ]
  },
  {
   "cell_type": "code",
   "execution_count": null,
   "metadata": {},
   "outputs": [],
   "source": [
    "def product_lambda(k: int, var_index: int):\n",
    "    assert 0 <= var_index\n",
    "    var = lex.encode_int(var_index)\n",
    "\n",
    "    return f'L{var} ' + sum(\n",
    "        (\n",
    "            z.ICFPString(f'v{var}')\n",
    "            for _ in range(k - 1)\n",
    "        ),\n",
    "        start=z.ICFPString(f'v{var}')\n",
    "    ).value"
   ]
  },
  {
   "cell_type": "code",
   "execution_count": null,
   "metadata": {},
   "outputs": [],
   "source": []
  },
  {
   "cell_type": "code",
   "execution_count": 22,
   "metadata": {},
   "outputs": [],
   "source": [
    "def concat_strings(*strs: z.ICFPString) -> z.ICFPString:\n",
    "    result = [\n",
    "        f'B. {strs[i].value} '\n",
    "        for i in range(len(strs) - 1)\n",
    "    ]\n",
    "\n",
    "    result.append(strs[-1].value)\n",
    "\n",
    "    return z.ICFPString(\n",
    "            ''.join(\n",
    "            result\n",
    "        )\n",
    "    )\n"
   ]
  },
  {
   "cell_type": "code",
   "execution_count": 23,
   "metadata": {},
   "outputs": [
    {
     "data": {
      "text/plain": [
       "HumanString(LOVE YOU)"
      ]
     },
     "execution_count": 23,
     "metadata": {},
     "output_type": "execute_result"
    }
   ],
   "source": [
    "(z.HumanString('LOVE').to_icfp() + z.HumanString(' ').to_icfp() + z.HumanString('YOU').to_icfp()).to_human()"
   ]
  },
  {
   "cell_type": "code",
   "execution_count": 24,
   "metadata": {},
   "outputs": [
    {
     "data": {
      "text/plain": [
       "HumanString(LOVE YOU!!)"
      ]
     },
     "execution_count": 24,
     "metadata": {},
     "output_type": "execute_result"
    }
   ],
   "source": [
    "concat_strings(\n",
    "    z.HumanString('LOVE').to_icfp(),\n",
    "    z.HumanString(' ').to_icfp(),\n",
    "    z.HumanString('YOU').to_icfp(),\n",
    "    z.HumanString('!!').to_icfp(),\n",
    ").to_human()"
   ]
  },
  {
   "cell_type": "code",
   "execution_count": 25,
   "metadata": {},
   "outputs": [],
   "source": [
    "def pow_string(s: z.ICFPString, base: int, exponent: int) -> z.ICFPString:\n",
    "    if base == 1:\n",
    "        return s\n",
    "\n",
    "    product = 'Lx' + ' B. vx' * (base - 1) + ' vx'\n",
    "    exp = 'Lf' + ' B$ vf' * exponent\n",
    "\n",
    "    return z.ICFPString(f'B$ {exp} {s.value} {product}')\n"
   ]
  },
  {
   "cell_type": "code",
   "execution_count": 26,
   "metadata": {},
   "outputs": [
    {
     "data": {
      "text/plain": [
       "HumanString(LOVELOVELOVELOVELOVELOVELOVELOVELOVELOVELOVELOVELOVELOVELOVELOVELOVELOVELOVELOVELOVELOVELOVELOVELOVELOVELOVELOVELOVELOVELOVELOVELOVELOVELOVELOVELOVELOVELOVELOVELOVELOVELOVELOVELOVELOVELOVELOVELOVELOVELOVELOVELOVELOVELOVELOVELOVELOVELOVELOVELOVELOVELOVELOVELOVELOVELOVELOVELOVELOVELOVELOVELOVELOVELOVELOVELOVELOVELOVELOVELOVELOVELOVELOVELOVELOVELOVELOVELOVELOVELOVELOVELOVELOVELOVELOVELOVELOVELOVELOVELOVELOVELOVELOVELOVELOVELOVELOVELOVELOVELOVELOVELOVELOVELOVELOVELOVELOVELOVELOVELOVELOVELOVELOVELOVELOVELOVELOVELOVELOVELOVELOVELOVELOVELOVELOVELOVELOVELOVELOVELOVELOVELOVELOVELOVELOVELOVELOVELOVELOVELOVELOVELOVELOVELOVELOVELOVELOVELOVELOVELOVELOVELOVELOVELOVELOVELOVELOVELOVELOVELOVELOVELOVELOVELOVELOVELOVELOVELOVELOVELOVELOVELOVELOVELOVELOVELOVELOVELOVELOVELOVELOVELOVELOVELOVELOVELOVELOVELOVELOVELOVELOVELOVELOVELOVELOVELOVELOVELOVELOVELOVELOVELOVELOVELOVELOVELOVELOVELOVELOVELOVELOVELOVELOVELOVELOVELOVELOVELOVELOVELOVELOVELOVELOVELOVELOVELOVELOVELOVELOVELOVELOVELOVELOVELOVELOVELOVELOVELOVELOVELOVELOVELOVELOVELOVELOVE)"
      ]
     },
     "execution_count": 26,
     "metadata": {},
     "output_type": "execute_result"
    }
   ],
   "source": [
    "pow_string(\n",
    "    z.HumanString('LOVE').to_icfp(),\n",
    "    2,\n",
    "    8,\n",
    ").to_human()"
   ]
  },
  {
   "cell_type": "code",
   "execution_count": 27,
   "metadata": {},
   "outputs": [],
   "source": [
    "def product_lambda(k: int, var_index: int):\n",
    "    assert 0 <= var_index\n",
    "    var = lex.encode_int(var_index)\n",
    "\n",
    "    return f'L{var} ' + sum(\n",
    "        (\n",
    "            z.ICFPString(f'v{var}')\n",
    "            for _ in range(k - 1)\n",
    "        ),\n",
    "        start=z.ICFPString(f'v{var}')\n",
    "    ).value"
   ]
  },
  {
   "cell_type": "code",
   "execution_count": 28,
   "metadata": {},
   "outputs": [],
   "source": [
    "def apply_lambda(lam: str, arg: str) -> z.ICFPString:\n",
    "    return z.ICFPString(\n",
    "        f'B$ {lam} {arg}'\n",
    "    )"
   ]
  },
  {
   "cell_type": "code",
   "execution_count": 34,
   "metadata": {},
   "outputs": [],
   "source": [
    "def lambda_repeat_lambda_with_arg(lambda_var_index: int, initial_arg: str, repeat: int):\n",
    "    assert 1 < repeat\n",
    "\n",
    "    var = lex.encode_int(lambda_var_index)\n",
    "\n",
    "    return f'L{var}' + f' B$ v{var}' * repeat + f' {initial_arg}'"
   ]
  },
  {
   "cell_type": "code",
   "execution_count": 30,
   "metadata": {},
   "outputs": [],
   "source": [
    "def pow_string(s: z.ICFPString, base: int, exponent: int, base_var_index: int, exponent_var_index: int):\n",
    "    print(f'{base} ** {exponent}')\n",
    "    p = product_lambda(base, base_var_index)\n",
    "    exp = lambda_repeat_lambda_with_arg(exponent_var_index, s, exponent)\n",
    "    return apply_lambda(exp, p)"
   ]
  },
  {
   "cell_type": "code",
   "execution_count": 31,
   "metadata": {},
   "outputs": [],
   "source": [
    "def Y_combinator(stop_condition: z.ICFPString, ) -> z.ICFPString:\n",
    "\n",
    "    f'''B$ B$ L\" B$ L# B$ v\" B$ v# v# L# B$ v\" B$ v# v# L\" L# ? B= v# I! S B. B$ v\" B/ v# I{alphabet_size_encoded} BT I\" BD B% v# I{alphabet_size_encoded} S{alphabet_encoded} I{compact_encoded}'''"
   ]
  },
  {
   "cell_type": "code",
   "execution_count": null,
   "metadata": {},
   "outputs": [],
   "source": [
    "def lambda_times(product: int, pow: int):\n",
    "    p = product_lambda(product, 7)\n",
    "    exp = lambda_repeat_lambda_with_arg(5, )\n",
    "    return ''"
   ]
  },
  {
   "cell_type": "code",
   "execution_count": 19,
   "metadata": {},
   "outputs": [
    {
     "data": {
      "text/plain": [
       "'L! B. B. v! v! v!'"
      ]
     },
     "execution_count": 19,
     "metadata": {},
     "output_type": "execute_result"
    }
   ],
   "source": [
    "product_lambda(3, 0)"
   ]
  },
  {
   "cell_type": "code",
   "execution_count": null,
   "metadata": {},
   "outputs": [],
   "source": [
    "def"
   ]
  },
  {
   "cell_type": "code",
   "execution_count": null,
   "metadata": {},
   "outputs": [],
   "source": [
    "n = 98\n",
    "sol = ('D' * n + 'L' * n + 'U' * n + 'R' * n) * 25"
   ]
  },
  {
   "cell_type": "code",
   "execution_count": null,
   "metadata": {},
   "outputs": [],
   "source": []
  },
  {
   "cell_type": "code",
   "execution_count": 20,
   "metadata": {},
   "outputs": [
    {
     "data": {
      "text/plain": [
       "3"
      ]
     },
     "execution_count": 20,
     "metadata": {},
     "output_type": "execute_result"
    }
   ],
   "source": [
    "math.isqrt(10)"
   ]
  },
  {
   "cell_type": "code",
   "execution_count": 32,
   "metadata": {},
   "outputs": [],
   "source": [
    "def repeat_string_at_least(s: z.HumanString, k: int):\n",
    "    assert 0 < k\n",
    "\n",
    "    sqrt = math.isqrt(k)\n",
    "\n",
    "    alternatives = [\n",
    "        z.HumanString(s.value * k).to_icfp(),\n",
    "        apply_lambda(product_lambda(k, 0), s.to_icfp().value),\n",
    "    ] + [\n",
    "        pow_string(s.to_icfp(), base, exp, 0, 1)\n",
    "        for base, exp in [(sqrt, sqrt), (sqrt, sqrt + 1), (sqrt + 1, sqrt)]\n",
    "        if base ** exp >= k\n",
    "    ]\n",
    "\n",
    "    return alternatives"
   ]
  },
  {
   "cell_type": "code",
   "execution_count": 37,
   "metadata": {},
   "outputs": [
    {
     "data": {
      "text/plain": [
       "24.875"
      ]
     },
     "execution_count": 37,
     "metadata": {},
     "output_type": "execute_result"
    }
   ],
   "source": [
    "199 / 8"
   ]
  },
  {
   "cell_type": "code",
   "execution_count": 38,
   "metadata": {},
   "outputs": [
    {
     "name": "stdout",
     "output_type": "stream",
     "text": [
      "5 ** 5\n",
      "5 ** 6\n",
      "6 ** 5\n",
      "201 ICFPString(SLLLLLLLLLLLLLLLLLLLLLLLLLLLLLLLLLLLLLLLLLLLLLLLLLLLLLLLLLLLLLLLLLLLLLLLLLLLLLLLLLLLLLLLLLLLLLLLLLLLLLLLLLLLLLLLLLLLLLLLLLLLLLLLLLLLLLLLLLLLLLLLLLLLLLLLLLLLLLLLLLLLLLLLLLLLLLLLLLLLLLLLLLLLLLLLLLLLLLLLL)  \n",
      "162 ICFPString(B$ L! B. B. B. B. B. B. B. B. B. B. B. B. B. B. B. B. B. B. B. B. B. B. B. B. v! v! v! v! v! v! v! v! v! v! v! v! v! v! v! v! v! v! v! v! v! v! v! v! v! SLLLLLLLL)  \n",
      "75 ICFPString(B$ L\" B$ v\" B$ v\" B$ v\" B$ v\" B$ v\" SLLLLLLLL L! B. B. B. B. v! v! v! v! v!)  \n",
      "81 ICFPString(B$ L\" B$ v\" B$ v\" B$ v\" B$ v\" B$ v\" B$ v\" SLLLLLLLL L! B. B. B. B. v! v! v! v! v!)  \n",
      "81 ICFPString(B$ L\" B$ v\" B$ v\" B$ v\" B$ v\" B$ v\" SLLLLLLLL L! B. B. B. B. B. v! v! v! v! v! v!)  \n"
     ]
    }
   ],
   "source": [
    "for x in repeat_string_at_least(\n",
    "    z.HumanString('RRRRRRRR'),\n",
    "    25,\n",
    "):\n",
    "    print(f'{len(x.value)} {x}  ', end='')\n",
    "    print()\n",
    "    #last = x\n",
    "    #h = x.to_human()\n",
    "    #print(f'{len(h.value)} {h}')"
   ]
  },
  {
   "cell_type": "code",
   "execution_count": 42,
   "metadata": {},
   "outputs": [
    {
     "name": "stdout",
     "output_type": "stream",
     "text": [
      "2 ** 2 = 4\n",
      "2 ** 3 = 8\n",
      "2 ** 4 = 16\n",
      "2 ** 5 = 32\n",
      "2 ** 6 = 64\n",
      "2 ** 7 = 128\n",
      "2 ** 8 = 256\n",
      "2 ** 9 = 512\n",
      "3 ** 3 = 27\n",
      "3 ** 4 = 81\n",
      "3 ** 5 = 243\n",
      "3 ** 6 = 729\n",
      "3 ** 7 = 2187\n",
      "3 ** 8 = 6561\n",
      "3 ** 9 = 19683\n",
      "4 ** 4 = 256\n",
      "4 ** 5 = 1024\n",
      "4 ** 6 = 4096\n",
      "4 ** 7 = 16384\n",
      "4 ** 8 = 65536\n",
      "4 ** 9 = 262144\n",
      "5 ** 5 = 3125\n",
      "5 ** 6 = 15625\n",
      "5 ** 7 = 78125\n",
      "5 ** 8 = 390625\n",
      "5 ** 9 = 1953125\n",
      "6 ** 6 = 46656\n",
      "6 ** 7 = 279936\n",
      "6 ** 8 = 1679616\n",
      "6 ** 9 = 10077696\n",
      "7 ** 7 = 823543\n",
      "7 ** 8 = 5764801\n",
      "7 ** 9 = 40353607\n",
      "8 ** 8 = 16777216\n",
      "8 ** 9 = 134217728\n",
      "9 ** 9 = 387420489\n"
     ]
    }
   ],
   "source": [
    "for i in range(2, 10):\n",
    "    for j in range(i, 10):\n",
    "        print(f'{i} ** {j} = {i ** j}')"
   ]
  },
  {
   "cell_type": "code",
   "execution_count": 39,
   "metadata": {},
   "outputs": [
    {
     "data": {
      "text/plain": [
       "27"
      ]
     },
     "execution_count": 39,
     "metadata": {},
     "output_type": "execute_result"
    }
   ],
   "source": [
    "3 ** 3"
   ]
  },
  {
   "cell_type": "code",
   "execution_count": 19,
   "metadata": {},
   "outputs": [
    {
     "data": {
      "text/plain": [
       "ICFPString(B$ L! B. B. B. B. B. v! v! v! v! v! v! ICFPString(SFVWXY+$3))"
      ]
     },
     "execution_count": 19,
     "metadata": {},
     "output_type": "execute_result"
    }
   ],
   "source": [
    "last"
   ]
  },
  {
   "cell_type": "code",
   "execution_count": 22,
   "metadata": {},
   "outputs": [
    {
     "data": {
      "text/plain": [
       "HumanString(6369806710782337158020139004391515523328)"
      ]
     },
     "execution_count": 22,
     "metadata": {},
     "output_type": "execute_result"
    }
   ],
   "source": [
    "last.to_human()"
   ]
  },
  {
   "cell_type": "code",
   "execution_count": 49,
   "metadata": {},
   "outputs": [
    {
     "data": {
      "text/plain": [
       "6369806710782337158020139004391515523328"
      ]
     },
     "execution_count": 49,
     "metadata": {},
     "output_type": "execute_result"
    }
   ],
   "source": [
    "human_string"
   ]
  },
  {
   "cell_type": "code",
   "execution_count": null,
   "metadata": {},
   "outputs": [
    {
     "data": {
      "text/plain": [
       "HumanString(FUCKFUCKFUCKFUCKFUCKFUCKFUCKFUCKFUCKFUCKFUCKFUCKFUCKFUCKFUCKFUCKFUCKFUCKFUCKFUCKFUCKFUCKFUCKFUCKFUCKFUCKFUCKFUCKFUCKFUCKFUCKFUCKFUCKFUCKFUCKFUCKFUCKFUCKFUCKFUCKFUCKFUCKFUCKFUCKFUCKFUCKFUCKFUCKFUCKFUCKFUCKFUCKFUCKFUCKFUCKFUCKFUCKFUCKFUCKFUCKFUCKFUCKFUCKFUCKFUCKFUCKFUCKFUCKFUCKFUCKFUCKFUCKFUCKFUCKFUCKFUCKFUCKFUCKFUCKFUCKFUCKFUCKFUCKFUCKFUCKFUCKFUCKFUCKFUCKFUCKFUCKFUCKFUCKFUCKFUCKFUCKFUCKFUCKFUCKFUCKFUCKFUCKFUCKFUCKFUCKFUCKFUCKFUCKFUCKFUCKFUCKFUCKFUCKFUCKFUCKFUCKFUCKFUCKFUCKFUCKFUCKFUCKFUCKFUCKFUCKFUCKFUCKFUCKFUCKFUCKFUCKFUCKFUCKFUCKFUCKFUCKFUCKFUCKFUCKFUCKFUCKFUCKFUCKFUCKFUCKFUCKFUCKFUCKFUCKFUCKFUCKFUCKFUCKFUCKFUCKFUCKFUCKFUCKFUCKFUCKFUCKFUCKFUCKFUCKFUCKFUCKFUCKFUCKFUCKFUCKFUCKFUCKFUCKFUCKFUCKFUCKFUCKFUCKFUCKFUCKFUCKFUCKFUCKFUCKFUCKFUCKFUCKFUCKFUCKFUCKFUCKFUCKFUCKFUCKFUCKFUCKFUCKFUCKFUCKFUCKFUCKFUCKFUCKFUCKFUCKFUCKFUCKFUCKFUCKFUCKFUCKFUCKFUCKFUCKFUCKFUCKFUCKFUCKFUCKFUCKFUCKFUCKFUCKFUCKFUCKFUCKFUCKFUCKFUCKFUCKFUCKFUCKFUCKFUCKFUCKFUCKFUCKFUCKFUCKFUCKFUCKFUCKFUCKFUCKFUCKFUCKFUCKFUCKFUCKFUCKFUCKFUCKFUCKFUCKFUCKFUCK)"
      ]
     },
     "metadata": {},
     "output_type": "display_data"
    }
   ],
   "source": [
    "pow_string(\n",
    "    z.HumanString('FUCK').to_icfp(),\n",
    "    2,\n",
    "    8,\n",
    ").to_human()"
   ]
  },
  {
   "cell_type": "code",
   "execution_count": 46,
   "metadata": {},
   "outputs": [
    {
     "data": {
      "text/plain": [
       "2"
      ]
     },
     "execution_count": 46,
     "metadata": {},
     "output_type": "execute_result"
    }
   ],
   "source": [
    "math.isqrt(6)"
   ]
  },
  {
   "cell_type": "code",
   "execution_count": null,
   "metadata": {},
   "outputs": [],
   "source": []
  },
  {
   "cell_type": "code",
   "execution_count": null,
   "metadata": {},
   "outputs": [],
   "source": [
    "'Lf B$ vf B$ vf B$ vf S@O=E'"
   ]
  },
  {
   "cell_type": "code",
   "execution_count": 25,
   "metadata": {},
   "outputs": [
    {
     "data": {
      "text/plain": [
       "HumanString(FUCKFUCKFUCKFUCKFUCKFUCKFUCKFUCKFUCKFUCKFUCKFUCKFUCKFUCKFUCKFUCKFUCKFUCKFUCKFUCKFUCKFUCKFUCKFUCKFUCKFUCKFUCK)"
      ]
     },
     "execution_count": 25,
     "metadata": {},
     "output_type": "execute_result"
    }
   ],
   "source": [
    "z.ICFPString('B$ Lf B$ vfB$ vfB$ vf S@O=E Lx B. vxB. vx vx')\n",
    "z.ICFPString('B$ Lf B$ vf B$ vf B$ vf S@O=E Lx B. vx B. vx vx').to_human()"
   ]
  },
  {
   "cell_type": "code",
   "execution_count": 4,
   "metadata": {},
   "outputs": [
    {
     "data": {
      "text/plain": [
       "ICFPString(B. S3/,6%},!-\"$!-!.[} B$ Lf B$ vf B$ vf B$ vf SLLLLLLLL Lx B. vx B. vx vx)"
      ]
     },
     "execution_count": 4,
     "metadata": {},
     "output_type": "execute_result"
    }
   ],
   "source": [
    "s6 = z.ICFPString.from_file('solutions/lambdaman/compact/6_73')\n",
    "s6"
   ]
  },
  {
   "cell_type": "code",
   "execution_count": 6,
   "metadata": {},
   "outputs": [
    {
     "data": {
      "text/plain": [
       "\"'solve lambdaman6 ' ++ ((λ d. (d(d(d('RRRRRRRR')))))(λ c. (c ++ (c ++ c))))\""
      ]
     },
     "execution_count": 6,
     "metadata": {},
     "output_type": "execute_result"
    }
   ],
   "source": [
    "s6.pprint()"
   ]
  },
  {
   "cell_type": "code",
   "execution_count": 5,
   "metadata": {},
   "outputs": [
    {
     "data": {
      "text/plain": [
       "HumanString(solve lambdaman6 RRRRRRRRRRRRRRRRRRRRRRRRRRRRRRRRRRRRRRRRRRRRRRRRRRRRRRRRRRRRRRRRRRRRRRRRRRRRRRRRRRRRRRRRRRRRRRRRRRRRRRRRRRRRRRRRRRRRRRRRRRRRRRRRRRRRRRRRRRRRRRRRRRRRRRRRRRRRRRRRRRRRRRRRRRRRRRRRRRRRRRRRRRRRRRRRRRRRRRRRRRRRRRRRRRRRRRRR)"
      ]
     },
     "execution_count": 5,
     "metadata": {},
     "output_type": "execute_result"
    }
   ],
   "source": [
    "s6.to_human()"
   ]
  },
  {
   "cell_type": "code",
   "execution_count": 7,
   "metadata": {},
   "outputs": [],
   "source": [
    "rrr = 'RRRRRRRRRRRRRRRRRRRRRRRRRRRRRRRRRRRRRRRRRRRRRRRRRRRRRRRRRRRRRRRRRRRRRRRRRRRRRRRRRRRRRRRRRRRRRRRRRRRRRRRRRRRRRRRRRRRRRRRRRRRRRRRRRRRRRRRRRRRRRRRRRRRRRRRRRRRRRRRRRRRRRRRRRRRRRRRRRRRRRRRRRRRRRRRRRRRRRRRRRRRRRRRRRRRRRRRR'"
   ]
  },
  {
   "cell_type": "code",
   "execution_count": 8,
   "metadata": {},
   "outputs": [
    {
     "data": {
      "text/plain": [
       "216"
      ]
     },
     "execution_count": 8,
     "metadata": {},
     "output_type": "execute_result"
    }
   ],
   "source": [
    "len(rrr)"
   ]
  },
  {
   "cell_type": "code",
   "execution_count": 10,
   "metadata": {},
   "outputs": [
    {
     "data": {
      "text/plain": [
       "216"
      ]
     },
     "execution_count": 10,
     "metadata": {},
     "output_type": "execute_result"
    }
   ],
   "source": [
    "len(3 * 3 * 3 * 'RRRRRRRR')"
   ]
  },
  {
   "cell_type": "code",
   "execution_count": 2,
   "metadata": {},
   "outputs": [
    {
     "data": {
      "text/plain": [
       "HumanString(UDLLLDURRRRRURR)"
      ]
     },
     "execution_count": 2,
     "metadata": {},
     "output_type": "execute_result"
    }
   ],
   "source": [
    "s = z.HumanString('UDLLLDURRRRRURR')\n",
    "s"
   ]
  },
  {
   "cell_type": "code",
   "execution_count": 4,
   "metadata": {},
   "outputs": [
    {
     "data": {
      "text/plain": [
       "HumanString(UDLLLDURRRRRURR)"
      ]
     },
     "execution_count": 4,
     "metadata": {},
     "output_type": "execute_result"
    }
   ],
   "source": [
    "s.div_mod_compact().to_human()"
   ]
  },
  {
   "cell_type": "code",
   "execution_count": 7,
   "metadata": {},
   "outputs": [
    {
     "data": {
      "text/plain": [
       "ICFPString(SO>FFF>OLLLLLOLL)"
      ]
     },
     "execution_count": 7,
     "metadata": {},
     "output_type": "execute_result"
    }
   ],
   "source": [
    "s.to_icfp()"
   ]
  },
  {
   "cell_type": "code",
   "execution_count": 3,
   "metadata": {},
   "outputs": [
    {
     "name": "stdout",
     "output_type": "stream",
     "text": [
      "SO>FFF>OLLLLLOLL\n"
     ]
    }
   ],
   "source": [
    "s = 'UDLLLDURRRRRURR'\n",
    "print(z.convert_string(s))"
   ]
  },
  {
   "cell_type": "code",
   "execution_count": 4,
   "metadata": {},
   "outputs": [
    {
     "data": {
      "text/plain": [
       "'B$ B$ L\" B$ L# B$ v\" B$ v# v# L# B$ v\" B$ v# v# L\" L# ? B= v# I! S B. B$ v\" B/ v# I% BT I\" BD B% v# I% SFL>O I-%&2$'"
      ]
     },
     "execution_count": 4,
     "metadata": {},
     "output_type": "execute_result"
    }
   ],
   "source": [
    "z.compact_string(s)"
   ]
  },
  {
   "cell_type": "code",
   "execution_count": 6,
   "metadata": {},
   "outputs": [
    {
     "data": {
      "text/plain": [
       "'UDLLLDURRRRRURR'"
      ]
     },
     "execution_count": 6,
     "metadata": {},
     "output_type": "execute_result"
    }
   ],
   "source": [
    "z.eval_expr(z.compact_string(s))"
   ]
  },
  {
   "cell_type": "code",
   "execution_count": 146,
   "metadata": {},
   "outputs": [],
   "source": [
    "from pathlib import Path\n",
    "\n",
    "text = Path('solutions/3d/7.solution').read_text()"
   ]
  },
  {
   "cell_type": "code",
   "execution_count": 148,
   "metadata": {},
   "outputs": [
    {
     "data": {
      "text/plain": [
       "682"
      ]
     },
     "execution_count": 148,
     "metadata": {},
     "output_type": "execute_result"
    }
   ],
   "source": [
    "len(text)"
   ]
  },
  {
   "cell_type": "code",
   "execution_count": 151,
   "metadata": {},
   "outputs": [
    {
     "data": {
      "text/plain": [
       "584"
      ]
     },
     "execution_count": 151,
     "metadata": {},
     "output_type": "execute_result"
    }
   ],
   "source": [
    "len(Human(text).div_mod_compact().value)"
   ]
  },
  {
   "cell_type": "code",
   "execution_count": null,
   "metadata": {},
   "outputs": [],
   "source": []
  },
  {
   "cell_type": "code",
   "execution_count": 5,
   "metadata": {},
   "outputs": [],
   "source": [
    "import lex\n",
    "import eval\n",
    "import math\n",
    "import com\n",
    "import time\n",
    "\n",
    "from pathlib import Path"
   ]
  },
  {
   "cell_type": "code",
   "execution_count": null,
   "metadata": {},
   "outputs": [],
   "source": []
  },
  {
   "cell_type": "code",
   "execution_count": 6,
   "metadata": {},
   "outputs": [],
   "source": [
    "def reproduce_int_sequence(i: int, alphabet_size: int):\n",
    "    result = []\n",
    "    while i != 0:\n",
    "        d, m = divmod(i, alphabet_size)\n",
    "        result.append(m)\n",
    "        i = d\n",
    "\n",
    "    result.reverse()\n",
    "\n",
    "    return result\n",
    "\n",
    "def compact_int_sequence(sequence: list[int], alphabet_size: int):\n",
    "    it = iter(sequence)\n",
    "    result = next(it)\n",
    "    for s in it:\n",
    "        result = result * alphabet_size + s\n",
    "\n",
    "    return result\n",
    "\n",
    "\n",
    "def create_alphabet(sequence: list[str]):\n",
    "    alphabet = list(set(sequence))\n",
    "    if len(alphabet) == 1:\n",
    "        assert '*' not in alphabet\n",
    "        alphabet.append('*')\n",
    "\n",
    "    if alphabet.index(sequence[0]) == 0:\n",
    "        alphabet.append(alphabet.pop(0))\n",
    "\n",
    "    return alphabet\n",
    "\n",
    "def compact_sequence(sequence: list[str]) -> tuple[int, list[str]]:\n",
    "    alphabet = create_alphabet(sequence)\n",
    "\n",
    "    result = compact_int_sequence(\n",
    "        (\n",
    "            alphabet.index(s)\n",
    "            for s in sequence\n",
    "        ),\n",
    "        len(alphabet)\n",
    "    )\n",
    "\n",
    "    return result, alphabet\n",
    "\n",
    "\n",
    "def parse_compact_sequence(compact: int, alphabet: list[str]):\n",
    "    return [\n",
    "        alphabet[i]\n",
    "        for i in reproduce_int_sequence(compact, len(alphabet))\n",
    "    ]\n",
    "\n",
    "def compact_to_expr(compact: int, alphabet: list[str]):\n",
    "    alphabet_size = len(alphabet)\n",
    "\n",
    "    compact_encoded = lex.encode_int(compact)\n",
    "    alphabet_encoded = lex.encode_string(alphabet)\n",
    "    alphabet_size_encoded = lex.encode_int(alphabet_size)\n",
    "\n",
    "    return f'''B$ B$ L\" B$ L# B$ v\" B$ v# v# L# B$ v\" B$ v# v# L\" L# ? B= v# I! S B. B$ v\" B/ v# I{alphabet_size_encoded} BT I\" BD B% v# I{alphabet_size_encoded} S{alphabet_encoded} I{compact_encoded}'''\n",
    "\n",
    "\n",
    "def compact_string(string: str):\n",
    "    compact, alphabet = compact_sequence(string)\n",
    "\n",
    "    return compact_to_expr(compact, alphabet)\n",
    "\n",
    "\n",
    "def prepare_lambdaman_result(task_i: int, expr):\n",
    "    prefix = f'solve lambdaman{task_i} '\n",
    "    prefix_encoded = lex.encode_string(prefix)\n",
    "\n",
    "    return f'B. S{prefix_encoded} {expr}'\n"
   ]
  },
  {
   "cell_type": "code",
   "execution_count": 11,
   "metadata": {},
   "outputs": [],
   "source": [
    "destination_dir = Path(f'solutions/lambdaman/raw')\n",
    "#reported_destination_dir = destination_dir / 'reported'\n",
    "\n",
    "def find_best_soultuion(i: int):\n",
    "    solutions = list(destination_dir.glob(f'{i}_*'))\n",
    "    if len(solutions) == 0:\n",
    "        print(f'Lambdaman #{i} without solutions')\n",
    "        return None\n",
    "\n",
    "    best = min(solutions, key=lambda f: int(f.name.split('_')[1]))\n",
    "    return best\n",
    "\n",
    "def find_best_soultuion_compact(i: int):\n",
    "    solutions = list(destination_dir.joinpath('compact').glob(f'{i}_*'))\n",
    "    if len(solutions) == 0:\n",
    "        print(f'Lambdaman #{i} without solutions')\n",
    "        return None\n",
    "\n",
    "    best = min(solutions, key=lambda f: int(f.name.split('_')[1]))\n",
    "    return best\n",
    "\n",
    "\n",
    "def get_best_solution_full(i: int):\n",
    "    best = find_best_soultuion(i)\n",
    "\n",
    "    if best is None:\n",
    "        return None\n",
    "\n",
    "    path = best.read_text().rstrip()field = L8.apply_solution(sol)\n",
    "\n",
    "    return 'S' + lex.encode_string(f'solve lambdaman{i} {path}')\n",
    "\n",
    "\n",
    "def get_best_solution_compact(i: int):\n",
    "    best = find_best_soultuion_compact(i)\n",
    "\n",
    "    if best is None:\n",
    "        return None\n",
    "\n",
    "    result = best.read_text().rstrip()\n",
    "\n",
    "    return result\n"
   ]
  },
  {
   "cell_type": "code",
   "execution_count": 12,
   "metadata": {},
   "outputs": [
    {
     "name": "stdout",
     "output_type": "stream",
     "text": [
      "skip 1\n",
      "skip 2\n",
      "skip 3\n",
      "skip 4\n",
      "skip 5\n",
      "skip 6\n",
      "skip 7\n",
      "skip 8\n",
      "skip 9\n",
      "skip 10\n",
      "skip 12\n",
      "skip 13\n",
      "skip 14\n",
      "skip 15\n",
      "skip 16\n",
      "skip 17\n",
      "skip 18\n",
      "skip 19\n"
     ]
    }
   ],
   "source": [
    "for i in range(1, 22):\n",
    "    sol_path = find_best_soultuion(i)\n",
    "    if sol_path is None:\n",
    "        print(f'no solution for {i}')\n",
    "        continue\n",
    "\n",
    "    sol = sol_path.read_text().rstrip()\n",
    "\n",
    "    compact = prepare_lambdaman_result(i, compact_string(sol))\n",
    "\n",
    "    destination = Path(f'solutions/lambdaman/') / 'compact' / f'{i}_{len(compact)}'\n",
    "    if destination.exists():\n",
    "        print(f'skip {i}')\n",
    "    else:\n",
    "        destination.write_text(compact)"
   ]
  },
  {
   "cell_type": "code",
   "execution_count": 5,
   "metadata": {},
   "outputs": [
    {
     "name": "stdout",
     "output_type": "stream",
     "text": [
      "21 score: 10569 B. S3/,6%},!-\"$!-!.WV} B$ B$ L\" B$ L# B$ v\" B$ v# v# L# B$ v\" B$ v# v# L\" L# ? B= v# I! S B. B$ v\" B/ v# I% BT I\" BD B% v# I% SOL>F I\"50DaiivHA#{eaZhR5+Ho)P$Iru\"xxfUs;&u?S(x5yo>D$_NE[HwPg<Y+7T|tq+]/%T]RxesZ@|yRu>.K98!+f6/;vnt$F\"_~)TbUXh\\\")U7Zgelx)/}xxn_JHc99pg\"2J)`_}N^r05wG#euEfVl[Z.G.3F.1U(~cc~mC#|uUr2|8n%)&mK!nAX~q5m:'Y7IhX10%-~OOJxhm|db)=#;Fs77EuRwEw\\dS7ZHjKOUc|J!E58*<-L}tzXmERrFbSQ5i-toRUh'9@fogqVH^;cwJheK4%<9tW0p<)XtHH+0'dzS~exO`.o60T5nyxdWh2~EK_6YWL,4|t\")~5{Z{HcK)Opsx{W.l?8^8d$~#w|S63Ma2V,1\"Q(6H&/gn6FU7rze_D5K?UZ0v`f}akhLNjzQ)DIRa*S6WA.uKcvaFIDmQNfR65KR=9Z)\"$+Wh8F|H)kmAG+Ur1Vfh-Tb\"W?CoUE/q|mBWicIa\\4e#yrKZu=;5zeH>Ad1[qyP0}tnSo[%sTAia+O@'^]J;KJ3pXuz1xHL%cf]?W\"1fAP3J#$(T9(odn_:dX0eL9D\\t2iWq$$A|\\JpfXWgufT=q=),_Nb?fTL~Wvcm=S4e+Yh7iMr?!+yZ~}pKfQ(:#]$4(}fSd:oqmMIbNGh?)D@tphoicz?Oww[=vM2<zJ\\`|qWaywl8l$LH.?D]qIpSjKsn;lL2vI@.\\6]pkt-!d-Cp!eR%Bw/TaOF2v=3B)xj2Lrtfsw`i?Kwpi![]H$iV.P>O(pbOEBbKVqisNk@1R-MXEWnOG~\\u|?A7'omo.kqT(~i#N3Z6YEO9Mw@4FPs>t9e\\-5Oe=zk:1lSBy&92=',-.fjhS%f}[QOJ{;i8=WT*e!b<!G&<MXlb\"RA6gIZZ#5'&(l,M$MVkXJN<CSyjAoDApSC~$q>c((Zv$b26%O)`|LXVdmz\"*JOX632vg5X5`-eo|+8u%sDZGnB'iI$KX*G&</>a&J#:0[8{y@it`+wBYCie<'tnv-$k%tZ^k4t;5)uirjr<z;u`MI1Zlsa)rkSas5'5BE=2t0EGp[pm8}Gp?/6b2n~f*OATC9`V4Z$:{:8:F@,ZIAla+0R5FVd^f_aTD9V/WY]@27bmq(2IN19l6;p^sG>|Yx3~J2RL3$zJ,+P$XIA_K^$p6*P^hmbs%uw6o,6fD/w(_o}c`l0g|yl$I]WHzeX)D4so,\"ZWIw`zNa%'O-ACywVBr~Yb/kvHHp,%Xs[41n]Q]><L2(ENRDf<qRiV[(a|cHIbBP$^:U]{`v_E-!1JX`}isO-}lGQM,m3ZGptui\"Nl=UDW2Kc4G'_%OA'yN=Ta_`qnNo`2\\`}L2_o0${z8p2'Wvy@:XSN[|4(e2O#u\\Yc/PdD)<(pD+vImk/!k`-'`{UIH}8]><>2-RlWXx@vrRF9mD$yGoKjZ<jge+iGIm(Bt_?[5Q<|&w3U.INNb[U'CExkLw3r=21GQog0x&ob_w8'6Fe,{*t3sk[(mN;hX*[r~Thg!6[R+Zzcph^gse|L]g8(*9XA$rl)q&]V,(TKV'7.RcP*$M<0_2dM3}M}BV7\\eq7`&,onLFGkSt2oYEPa#%XwJi)C7'r}R4WJH2IwY[w.;mx5Mh'@1srKb!f$&Rbf^cGFa[C\\X9%T47)Rx1&*nkeL}8;F1j0@[HAq8dVtF,#Arz{F_\\yq1?Jk(DRgb/8GOc8J%<f_:v3T9jE}b6i\\K}^,r!o$6:K{f$x.RX_g9_UfL=G#ulk,]:~`&u^]_FkDAl_5XH#S|$#KI0f%Z@0X_lnYu8.,0Hg\"S2)PC-o$6;iLvXJd[vD+\"*uh*(~$uy`'JQ{3)jlltj<lJ&5bZvqgPoaAMz;eB2;kiNKmo{$05.Gf^hmnW*1CLm6nJFmmNq4uWRM:RfbOq+.91zYFe$bM-G7+0+QC|+(tg{FLn8WoUMx?)8@S(`;vv0?GdM?gFF8!Hwfbcqv5M=9DPz~e'k#0(r3l*mV\"T!3YCl)t'B-FsdgHcb4@SgOG3*R+VTkZSEQXi1Oq}'Q;}Md7c)c{m0hf%I{P3_YTkJ06b1_u`9*UKRY26h[UTP$Jz,^.Lo2}_0\\?T(}XOxKo1oE'r=i,\"S{E97-W7YuAP@X`oao18CRK|yat4U?SVhJ:_m+y:}ZwQCsDJ<%%>m&o'#L[n5ARZFRsvaLOpNML2B/n3;6e{C=:?n_t'Cmz]QxXvl<V_5;l?\\Jacf%u^obz\\SS&`#wut=0Ta#cH%$)4h['U266,!7$m/S\"R{Ja9Dx.idzNgv`A:E';SJ`H8~E?SM4-n3ehKi%a`7gMv^<0T-jY0?QM=ZK=9'$_3O*cO_=hN=M$P>[/9!l%`L};Sj9pM#|wd%\\\"EvUuvT1)7K1_YJvfjLD(_px+U$?@QB0g!>]@4-OiVJS_w@o4N<Q*~{9mxXK&dnZ|c1ta^05JHWOQpBYb}s]`pj<|(7H'lDFlT@aL.VXVHsj9;UK]K$B$BAR8am1na%nDVmyFY5=[!zdQd/?Tt?ewncaZcw!WnHu<wszmupeSE0:&KIOpC<:MinS5p$9UP7E3|6UE3k0w[969[KU4<`1|X?>c\\8JLpo?$T_)<.`O{;Ck\\?>R@/7$O9G_\"EI,@d/opf4&?Qi%i!Z~mYhS207JO*:)[sIabA%AGBvEsRU%hUBXN(JVf_XN>S9cHG~VYWNn$Dq!UQq?9LO&h,TxR9m'O0tOA:>hyX<1A=4&Kec5vi^l\\H~bZ7(8K~TBf>60t'_DAscYi-tTy_zfV60sql,=rJ:+U8yPe0OWmyL?_n)TAh5RCcnO$ccn?Myym-A`/zc|\"t!qhO%H47f:\"0H&LYE#o(){~YyLmm-rMK.CQYOV!R#0A2T*U`lne5{k7@A{oic\\;5^f0YKXg4hnf>7/l[#%(R=cO=Pl{CpI_Rqbf0ZyW<7PHPR=fp(Li`Qek!~md6=-iIFs3?cVW19P-<Ur/AnpQipWlBG(uFjW7hmBV\\\"9/oHE'{\\tm2:,T\"e&mqbwC{guVq$J2arppWW*^4TzBSl~hQFD4~}I~0CLJ^[1Xe6Zf<F=G{jrZUB1nqO\\I-f]hfYm9\\mu[#MCzj/&9dsQZs'ofM?Z*K$/)nz}51Di*1JnU/BB68QD+!ALR\"Al5{4Fe\\(\"$H[(FW^4Q{[le<@\\:j)6i;2#mZ0!!l7W}`\",n>Su^W!y=tUXKWcy}o1F~*xoDmbnY0vWwQSo2dX099'Q5mTJH16*'*{d?oz?qD1becv@o~la^UgQ^Y*>J?5_<R[QyF85m!I'5y5yiqMKQ$eG)(4ZKdynPt\"krY><Tg{/8Bb.mER6q3#4:w8s7sF&4\\dUr[f%)X(!|cc)3C@0sxQ(T:zBW(ts#`dhF05n9qDWgArM!@zZ2abVp0pgv45;}QMjX/sjQ{yWXFoU%@A`arNHQ|*M%[\\[N}ahrte7LWJrG^S[(zb-*N^z\\p[E2fH7,*5fY4!Wzp-2nuQC,`=!^B?DR5P4\"|rlNw$^VL}?Izcp*/&B|H-yNRqd\"/WN.JyK\\cT,VYG((dBn6Sy\\7%O}]:]l\\a}=@!|:0xkRy>gA@)oQNJ-//5K}?b.nvHyu-F~x#?CH7y*f{9|dMM^BB|z{_y0RX9S<&!RU/}%KxMaKp`XKmeWu!UX]w-*oH[(&x#AhGOmB@F6?@6B9_iG\\$6c\\K$%SMKd\\)w!G.+s(>,=?^g2\\=wPq,V_FolNF;W\"o3dYnY\\>3j*&koMb~zj%E6<N\\VMwa9q`,a2F[$=@R{yM\\)U!Y.c_5w1~h!SKEj,XMCJtT[$bNROttjiJ]9E;_A,>$pCLe@j7d%m:X^#f+-:9$YDknzo*\"$Q`f~,YCo+Ns$Mzm`3u:,X]LI|($.%oJk5o6SD8cy5LTW=@GY]ml-Phc5W\\RL-lcJX|r9^S}/WqJZ<,%YSL/;hF|mj^]mEt*++YT+g!bxk|OKTz,cVbm_eL=x=c(6<AJh\"!x1y)a_eShO|i*_Q`2TlpL(zAB;~]V][2JH<13E#]qB2CNI?YwqbKe0MXL0L`f:vRYkK`KmdX2,+)W|$vU#e8H*tz%fZN[*UcE]']4@.'L~U|4r.'W`7)x)KO9qA%KzL}*sp^Q,c4WA\"0$=/yl03u35t_{(F%hy^&)BB_K[Z^M>|x5^1Ki_%!7=]W4`s^sR.~0oEM[MG#O8Q!<hC{SDEC{P!pdBG@t#uq*|4/6$u=4>9&|,14sG4b(=H4AmivqF$B~|4(\"1Op!w~$<D1RFf[{UX/!,$8F%,]O0a0WL_c:~*?^gr6fHZ$~u0!IpM}_mla9(F*Q2Xg~?V_}~2_NBQ4/.O.+ze\\1LdYE\\8-B8NsAIG)r%(T{)ue.=,?T?u-l50MbnS}Y\"[r?\"Xt_\\2M?BJ!(,2/9Q*N]9QVfS`J2|u3Q+KjtgJGKbXPOQ.C1N:~~(}./5mR\"{x]KMi-0K,r:r?nK;zA67T?+9m<4G)x~A&[FQpp.~1C-.e\"#uV;ZQ6U^8(rwM|^z{[~YV+|k;e7h90*&3\"-tv3!IF*;AW9LNW8Z*ti[V8(EYFpFrD-?WDBK<=C7y(m!ui{U\"^dea[?%hw=}5pMW-N6aZ1rSzKI>vydOa[VqjWt!VjCRB*OAjwp`+mBgtb{T~-sdHv_o3>7(_uf=%y=l\\@~[`=tI|,9vLE<ZiAA:v3M8_}h)gzt9pJ$2gT/$PvyJ0ot%URl@@s=!B~34b.kJpBsKs^mH:q\\R0%-X\")vPlA(,ctrH#`3qVV(>6#aIS$D7H.9Z`,&EQ;dDuwbj;dH/)/n$ZG:o\"Bd(;{X]:*@jj4wAI7T&+8:s[&RczmnG=IzouH%%Cg<4-CB7b*,}_H2<Uw}\\\\v@O\"HRnA}gnwlKqhgFvn)YQe]}x&y^WM\"j+0>%y{$vWXQ!WSei)Wvi*xQlA}U)`%,eeiw!0YG`Pj}&)Ae87afAG=~pCN^uNTa/amIe][N-^*=2+4kN3(xou7[K\"m&vlH2bgn_B<}mUK!6m\\@mZ~w7g;q;q_!9l#Y{h[J^~ZTE['9ag?-yXlyqFnYT]f=T8$!7~<Ag%eSd#`~+q|qIuo>Agnk!:@)\"w6N&@U=}DPR2zNKLa,\"s'7U^<p+%_-_|0/{P#s53ZkVt~2?7[2Eyn6?2qEL{ix@@i8*lF-Bh2oHbWVSSO<SQP`o0]=Z.gCGyxLDvHSc3\\/k5GG+C'\"nCc.l>x+|EMe~ws?+\\^&S9\\vha}@ze(:}}hgi^:&!WE#uR]iq_s`9}iH'6uZ4Q#bkwF$\"[6<uNj?0)RH2kuUIiw_plio;j\\,0wbnDx>+^O&-ObKPk9*dw>U*VJr:k|!XKyD2h}4]Vk],k/H__c/)P;r2#hd&1EE>g~9Fs>+wFGSbED!<[6T%)fSBCv+^Lyo@Io=Kl#gk4]:U3!GLmY,?qwlGf4vzu0\\b;}@7|&3}l7lb'p.%[w559V+=X.yY/]o\"aqv*UoaBZ)ZU'Gum7If(MZg_o0=m1@\\68kD|O$hlYf-(mHm3<u;C*kV@GNj<{n$G4z4<!$p.E^RDiY]Liz5Wyeq{]',lDspNB.LtR!ePhMhy|(e,\\\":iuN+[Zruz;DD30r}iPhp)>CgZ$PD#\\$z9{o,n&3WrvcEd-`U+g=F-Mfp~qRXZ=^b.AP\\[iFtfSRg2^,`&JFW#t-.j#Cv1f;CvE~&E0*:VR9F$DccbeiC#>Gd|L~s&}CY'o*Q5F%`-DF?'~F]?\"Rxx5.p\\~o3Z:/4{WB`:<Xb1H:x)h&C.Ze,`rb7E5![*uA1V9B^F)UReB8+{,zu8-nJnWzJOF~CS\\LNsBlvkbcspRd~0X3>&)WL^!.Z~P7g;?JQeIY.KsZHVqJ3?NZd4_k_U5$F;.`]#aPicbHQ\"h7[V6^9^Bm+A9LcYQxb88EpH^ZIfm6D,b/c(?#sY3Z5~4A^B|U)Q+}dKonq)Fh30?XX!@)3NJRMgD+}e7WsCkULsc:g+KdJSE{mO#k%:qQ#REexxdjM`\"G]E}DA!>u&u<aM+To|^}jTH[]+\"AEF@;4GH..IBA`8S@]ZR`+Sri1@U,k_,>>B4o?AjQb?iiFf+^|T3NXc2?!RjuJ/`*f9_VQ>d4*EY5!,[`@pOa|GDq9_BO_T%p|Y6f}>B^vtUOR<7NM6\"\\|$t\\l#$V671T^y|fTKZ](n,.~qGeX!m7mG+Kn.gLYFAf4U!QV8XS$KN[gWo\\Ihr&i=tE}fcZ^WRl.Y\"h,?enI,y,F[`#\"N?Qq'|&%f4G<5.72MmH,|izhJM`w\\tf)3-q68)co=y}_8K(>j)LRc<%h#LCCxQaikE!zKd\\k3/wpdM`?fy[klG7i10?C_E(CB<Q+a7wsi_OuU^blzzl&,#EE~E(Z(nq=v;$_U(M+oN.ft!|j+>hUOHpLj2&x^%/6.A'X4mjU03\\m#\\'W(v{IV:yC7!Dj+kx,yy|U]3TOT;6ueQgVrOn./x}.N}pWD:[Pw6p/}.)%VufE3I/+&-oAyM,'O\\gBcs}JyzZ;E;bGVF|(A5$$nsaTApGqg&pDZC!.Kdz=zJ:$@|wOjWBgZV40>#@r(,X\\Z\\n14m\\C:alywL(r(sPOl)pN\":n//qSN@`0.Ll6i,ChO</%-iQ|abTp=FL+vZ3K:F})0HwDQ+9$/i'(bO!W^|6Zsa97L3,)Z$1wOOT91A[}<%Ub6nPn@9QB>bB}\"3)zQT,{.d!mqOSDL7e>k8lG.^9EcZ.Mmi4AHZ?vi}!_)Z/#,Flr7Y}&?zS3]](iC\"Z&/*@>74]#F-fa(^j}VOj;Pvwq9TdI3o9QOqSx8Fb^m8`gt,nh(IX+<bds}j*~\\MJ.\\^ZuRVvG,jE-YRB8?7T|v>o(MLGn[(z)P>xd%</V2RKa.+MC.y(fmEvi<0?)8+j>(U8><Ks=%u8~x^RK6^q.<hls^7H(Vu^GoHaK*!Qsh6yDmv=9R0Gc8'Dpl%~:_BR{'s\\DQ\\YN%9T??|BaDiOeJ_>xc_l7O*0!PYVlCmgLq9r!7,hKKDT;bCG)H;q|!L\\>$4~^Ck,MuM6P\\UB!N.G*KRP+s7!H;)B;/?m_a]H'3zxK2]$f0n-Msq5^Q}Cjkbv\\DR$\"~/,c<Cak~5SA@<~:Ib)=EfH$^oqDs?dM;{GBqfr1n_0CTJ\"Dzv]J@e93.|vN4Laj7p2wV{.T8VWsicd30|9.j,lndt&[rabt.x\"FEEfD?]q\\?LV/g6f#xe-B@(ypJB4F%^`xq8RhG?$\\.+-,`}bP0+p^>baESpi*~_pvVa9cnSnINGfbryL}e(X(LGZjz5S`{<p6|gpb]]M3HnIyfCm+>WoD8-~`R=W(o[,:.*0g[<-\"kO#2/]N/o,`e3sf8\\=XM>ZhOmZH.@[3xuETi*srnb'YY-imE*-;k]3!K'%2u-Lp+WI-~p@e^b[|q)mY5m5%^l[3LInfo/-Du.)INNVIpEy#;>&!T\\*I\\{Czqr<0SFI~(8$Ar:f[#/|AQ|afDqTt8,2XSBH|LAny.FJ-Atn%G&wVzV9|$am2T0LGq~)@v`H.NH^.V-A|=9jjnN,W$'LFLQH!$QdiN<@SuYWS-t\\8s`aZz3JT-qj59l@Q]8esv~hqm^P;'=6Fw,BOfD(#wt|L{ALpG}c8qg<;ZJu=O8v7-*ET?PF<#(H4d-j$#b9y_{+`m<~~gz'k\\=4-cpR-urIf:2F0*`xW\"fctwj[*a1:a&Hh4\"%U@\"Q_!@aIKr9$rWY3uis$y^9y1y)t%9Y+<Q4gG2DMyHvD;56BkB\"/IBoVLY5m(X9Qd)1T&#{&)CZ1HP!#|c}N(.j%+/X3g4\\^rMO;ys_[Kq}Pw=\"<:Eyl.m*4e'bC\"T>HVDPmHEF;SC'!O%e]xYh^g'M7h{GUSKgl9kYqJAhJdSyU7/]%3LFxoT?<%Kn%}dvFM'/#[1\\TTD{S2|GR,+.t<QrTRSFs)Yk[g!\\>2@*<fA6h?XcUxfJn2tqF@tIq](n]p@;XX<R(-qp]&Tact2Gc,\\WMz)@H/#)]Lw)qDNR/cN<n@c\\g|=7WmOgVwB#19rT=pvfdT[.~RWcHa'$WB}^T)'|qn`VCSC%Z;{PXY$d;ik/Gt_SaQ:T=XBXJU\\/0`yGj7Kt:I1JL&yK1IIaD['vA}lm}q69@6{$3@\"~}@l#s~nugfglZ-]4c<[ygQJs{E6n^nB}nXiy6]\"g/[{Z^~3>EBgMo#+(T,a\\Hy=>Of/n*@Qfx8CGHJy:&<@Ri]\\43pBeft9B.V!%pjlq)Q\"o#g~z8jL_^v2OTYdM$}dC^?&lv-N[$'}l.2Tel{vZ(gk~UUN!o_KgJvO\\DiW9Z_9$7R)a2lN#[Ms,y_8\"rb};A&Ey/R9x)*SC<m]3muB:FJ'^^6Tpyi;KM~R<J?Jzzc#Z!:t>7%=LWM'-mME\\/NNfE!G~|z!_Xg\"(d^%5@|b[:7{unZ.81iTWtH+Pt~svq)0*xP!H2exv:W)7r1!MxSS&\\-Vl/>gW:..}(3!gu=lDkNsx8[P3?<>[y'>4BE;|;%ov)L@E5$g7Ba6%Re/@F11<2iRY%WF\"4~>cz7{([sox8(_l\"VyTCu$E~cN'!JoA15gph~'{zI\"{hdA.r5pZ_WO`,t0<+Ici/}y72r>[de_vMf_}/9~6/We!):~f3F~5hdM^6O~LG\"Iot5SOv:d%T]!n]fX;(9\"o@J7dSGjB^(F@KzIba=4q-Nh.rpH`X8PH&,;T5Vf^Quw:8*5akUuD/^=Gb]cayl`xX=VPaD\\g9R'<K=5[c6JW35vF)?rCg9m1RC\\9YpO+H\\i,eYh3T{>U)FDF5j)0PkBq}pQgf]9[k$_03)Ba(?:w*vCQN#9[M0#.3$dpfYabm<&2d<f6O/$kg>qW2O'u,_-=o,vk&]&4xcrH~{'Id5*lXfi}H<6vuUOOti.!'Y24b9=\\}*a%[r1tF}~o\\iK<XJsUAb</'4qvvsdY4rn*lHEv5T?@M2g}}:<B<\"K-C<n7Q;Q(ym_pmU,)3p>u>5R@!$3P;MU'-dHF[gq]9b-19uL)YreHd*~o^brM\"r&EvTv[Kbv|(X^j/QY2g2n)(l.3?EVv/HH)>NozNBWb>k28+B{?A>2Y*w==aCH2IAUAjy4w(_<mb[_+\"I}})5wu9*A,O9S[VJppAzotL<c?dN,dKtp'Asy`UNy!-[9;7Wp|XNdJ>~D0wAmi>I+'d8'~6c/%T\"!hc%1%+>9r3y>V(}RWt)`@.RlH<TWsVnJ&]YEWYSd&Njf-@(9YJ4p1hgnp?7/,g~4;\"&wU\\,fOU\"8F>En4hX1sAX7H2:biI!8Oa.:t|,8.;Qb=34c\"K`}4fK-{nf\\:w}E,aBf[vO#g{~_{r5;7/0`WQETkJR345^#:yLX6Y5j`UhA@.BPRf341:i2u`[n'6E1ib8}Zq@kq!9$c>~U3m6D$bSYIVI.!!C7d{AFkSMwEimPMT]x<.x\"Str]jj~kQc51c(_[:/J`w'$F>6D_[V#T4>B?|2y\\{I$IF{4wX~JN[lrq3UC-KO#db?~_)ZNz4agv=Ij@A~BD<fTV8J%V8%ne{862v8ol7#QkA7i!OOxmynX;msxqYXeM1$}s-#_dWx_12Pqi?:8H'8T;wDSRvt]-/Ea}Kf~XMs@n=%5ZAZqw/rqtNHQ4xtM^iJ8ZkL#\"#Yy,FV/nA<SM]\\YL'(e0K_7vUb!}w=IT+)n>2>SJTI0-4dY?}d,\"\"%WG?Epe7nzZtuc@E3zmQKcf:us\"`0C<t(VmM:X`D3Zwe3}u2N49a%c].*_5N6tOivm`veJa0W7Qs-a=/\"Y(4}f{=QRC\"`uv_F&)h?R7)oipz*HR&;L5M#HY2gXUR(h@D\\g_z9&dC.J17;5,z%C@tnRw$Z.Qun]O?(,X=7OfYAAOXR.}\"5K*<c%$^MLvgdKLbvdP&okr-HzepQ2Tcmgk.\\u/~Y-)~q4Hx1!b;q1'VJ!^PrBK_\"\"\\!XU\\&,`7MB@4$~Kw%^:62E>MVK@<7HM32o'5k>#zpQ%|y@z[~`)'L&2l&)|FTu'oM5vOT*8p`doDBJJ)0f[Se0ZsM`A[xgcQ#63Z))#q<hQGQk7>H8UP7c\\p$Py`oW%i:Ux.[!,>rt*zCGj[b9hp-~zy9P5Bbe=,{C*,KYn#)-j\\YQ;]T'`D{QQ\"JC>EvLv/2,sz&_)O8sQhZLK#9yN6N9-_iwTlCbf`>'HD.tfhbmA9Q=%0vjHCWVuLCM#dbNDU^B{9Cewi<TP`chuLRjuTY9iA-(NOKu'Q0<#]Wb'avVxUkapVa&Kkku69)}C4*Q[8ucr_IP6(kC/*xAK[J]RdX~:}/^&M!~'eI,M,@QkWQQDa}&|A[a7mOLSH;hDX)WS_9sQ!Mq\\q6PIYG_jO,Ml=TZwFr8ycO\"dv{6ZS[e|.u&O#5LL\"(!JSjd4o~[T=g5Y#2%PNEN+GLdTu3x6m/jX~C|)P\"qv{:Z{!N\\F>qfrh:9/?%QU!2{H=/%r=}E)G_v$qy/JpoE~)QAO}r*^Wr8\\U&E2IEqzkq+(OTMMZRj|t&(9k!+D7tc5<)!MQJeKEee(hI$wz%w0p4*[8p>|m/@=}/IlFkaEJa&rCqLg'k.86F$A|XsB:g-xb*CO8AiA*U0cCrq\"M|\\0Ri|5mXZVI?9+`sK7Fi[~Qq+dDL161sAVYO!/\\/X?=\n",
      "['Your solution for lambdaman21 was wrong.']\n"
     ]
    }
   ],
   "source": [
    "#for i in range(1, 22):\n",
    "for i in [21]:\n",
    "    best_full = get_best_solution_full(i)\n",
    "    best_compact = get_best_solution_compact(i)\n",
    "\n",
    "    if best_full is None and best_compact is None:\n",
    "        continue\n",
    "\n",
    "    best = min(\n",
    "        [\n",
    "            sol\n",
    "            for sol in [best_full, best_compact]\n",
    "            if sol is not None\n",
    "        ]\n",
    "        , key=lambda sol: len(sol)\n",
    "    )\n",
    "\n",
    "    print(f'{i} score: {len(best)} {best}')\n",
    "\n",
    "    response_destination = Path(f'./solutions/lambdaman/reported/{i}_{len(best)}')\n",
    "    response_destination.parent.mkdir(exist_ok=True)\n",
    "    if response_destination.exists():\n",
    "        print(f'skip {response_destination}')\n",
    "    else:\n",
    "        time.sleep(5)\n",
    "        response = com.com(best, True)\n",
    "        response_destination.write_text(response[0])\n",
    "        print(response)\n"
   ]
  },
  {
   "cell_type": "code",
   "execution_count": 18,
   "metadata": {},
   "outputs": [],
   "source": [
    "sol_encoded = Path('solutions/lambdaman/compact/21_10563').read_text()"
   ]
  },
  {
   "cell_type": "code",
   "execution_count": 19,
   "metadata": {},
   "outputs": [
    {
     "data": {
      "text/plain": [
       "'B. S3/,6%},!-\"$!-!.WV} B$ B$ L\" B$ L# B$ v\" B$ v# v# L# B$ v\" B$ v# v# L\" L# ? B= v# I! S B. B$ v\" B/ v# I% BT I\" BD B% v# I% SLOF> I9E0\\',&KM%1Z8c\\\\>MXuJbsL|?GU%iG@a/oWI;`c-~|dJ6TS<-#@IcEi_,/Z9vbZ2M~/_luY:&dhq6M{\\'L<$oEte/EUaScW]w6(;qE\"[PKv)oW1<?HV3B0@o\\\\|JQuBHq89@DsI7d\"T?:6so;in;S/:*NkuDv+QHDdP*Svd8oeWc<?_DgH777vt,E~;zhx)gY$M5~pe;ekp%\"5RB-BuH^bq@z2xuY.iWZ:-K6@b0}9h3y#X@LGZ\"b2Y_)##}eu|\\'.[PxI,&kVk^a?*Lt,+M\"xaY?F;0<1W<POCQ7Pk?2PgQt8(Ah\\'DE\\'x\\\\$R@K.n\\'i#jP>o5A>Q@ChX(:lul>cva>n<.^Pn(9L;a96$HW0`n\\'5Ry__hSCU0y;-0m2Mn/}mK7-au).E}Apt(*MD|Jib2S/UdiZl#l;)@Tv|R}e{.}nLnmP.Y\\'~:_Kr\"Kxg)o\\'B^TRqTi&|!H5x9.]]}zJ687I+NZkE|(8whY(IUQ8\\\\dB`2U8.W;Jq+^f5NRY|k0+j<;l+Od+$mDk@Jx]xl8F/y[jl7X.J}39dBlU-D&.NHOu#odN6ff,8F5Mt6iA\\']CTs;R1g\\\\$vhD73_\\\\frw:iF^z42JI<k;zYgXc-XIgrx`Gvz4*dK/CInz(~G,}S4-Ch)ubccC[Ybs~=P30h;FgY}wYVA3\\'fgy\\'Jm#&QjnX),1}xQqn-6lW9!RH-.b^zH2F^3oGsJtim~`!R;NdX\\\\u%;-8MB\\'F_Md\\'qEFRYD$7A@qP2WY4/\\']PXpgAtgL##\"Ke@~9L3S1wB=#z^ZW(E.5DAxFB/f{m7;l1\\'RSp\\\\zsv5Gbm\\\\Nko8ncV<yuMA9=Q_G0*SPggmxhu6kI&Qj0yrAte~(}Ig8GH,ITz&jGy4WLd.f8^tA;3>T2S4x=).#+;7h\\\\mEHI1zxy3q[u9{n6U6:DAma8T__->k65\\'N#-nq`rea,C.d5g6W#b1[@l<Df[Oa6+ZK\"5J9\\\\\\\\^/b[MT--$+jeTiH-X4[k(51Ep!LtN*1A+3C-:zQ6ET}p%QXI<lre)Cr(\"r9[K**05c!&d7fbeU\"$$vlM\"B=M*r7AdVKcOJn)[trK2na^.\\\\q6INQSkc~X6YE\\\\9ce}O]Kyh&2YWjL`/k\\'%c9.Vtw!048bL?/y*a(c5>k|`Z`:r.Fk[\"SAE76)Z\\\\\",&_gpd((H#&sN-i=PL\\\\wIM!5j(9`np%:-(%(%vK:DX[poC4!F*ne`-U\\'RcmC+RtkMr?N}djWw23^x9:cb^WqM8Jrux,O6h\\\\O>;VG3jGF!w*/Z!cakQt-8&27ANuZ7-,X,70mPB-%LFecZN^YoT1lR<RHzZ[uyn|9q[bE^R?l4Ty_%d*buD(h-{mZNM;/@*fpAl/u3$b|o\"Xbs-[Lt5qD21e=*z<MkoS#5\\\\~_qi>%#{)0#;N:~6\"DB[}>&p3YXLe``Cmk;-PBv%#6tiYq7<e1UIB\"dB#l$`4.36{l*xl8\\\\5;jw{z7:Q3#*%H+9kY\\'7S%N=RrF?f.7`.t|MOQn\"k[eS5g#;WJM=kl_jL~?HvDH+[r%=5VKyik[k|A><LzDj)ey2CleELR<:~T>25yD`xv)0w;XlWKPg1F?}\\\\W>xBAx@,a]<9r.TDrz}<z+2g>XWME;hAAS~H\\'SRr:fF\\\\e(8r`DouFfi9%{v4sv{QPxnVYw~@\"x6OH|Xd1L_-tOU%%@-dS_!V@$KC8d~:+=:h$p?.T-fidxFr_hlU&;rw8X7d@(?3nsE[:F]49vz.ik\\\\*rT3d\"\\\\CS$c/S[nrE*=s{)([ni[9s@2oh8X\\\\&|8kJ`ECQ0{8}W8eKIQ~a90\\\\\"Ca4]I.tvav(j,N0P~$+t|pwx\\'/Ez}d1h#)sd-{J/1/qOHUaP^|as)F$=_u72-6t`SzxE`IObcbL6`L],*Q_?5bQ\"fL\"Ql0;.VO`Ra\\'1!Rq>FKe2+Ae?.Mp:9{lItlEgGj-FCC}mB\"vXSRacC)v#4#v`ce`.p,$pm9lNe6TGFrXXCIPN|J?O:YSnU+T5h\\\\Ob~>{rd^&9n|b9Dam0:C8V_G1*q(2qda18Gn`d6aRWq(4GsAnowVwB%{Z8\\\\xdnD2>jT@undL\\'\"govTH0u%)XnAv&<zO6S\"=r#i_OU&|<?8APyA?gzdhiea~#eQF!]vW.em_KjlMQp~AQJjr.y*A8tZ3|Wt^p&]00o,Y=-~XhHD/$#DlXkrzlyYQ)JJQs!p\\'d|^JTrLWjcF1/`aq6W?O3(efUvTRxo90m|-nw/(RR:kPz0UD]1La;rC]@2)VgHq:Irc*!yQ/$UDx@Y\\'TbM)q<Dv~xG^63},}_Df%UyZL;?|[Jz`L5g$3y1QY\\\\(oDER&jzG4-,_w~tcM|zX4o<e|$hHeGT255=mx4_.1Hk5/R$]hQ4\"==wv<%hgoiIw.U:xnZIqYHJ!Im:bGvc,Lx_mrh52ZbOtRZGB)n|btk>#FEPVAobUs{I6.hJQ+F>\\\\IksME1JS.$utEWlh=\\\\nC8iJR}d&B[2MjC^x{\\\\0z<9.R%HDd#(.]NVCDAH3r\";AbFAvtPEm1fDE[OW0z/{/zaomCiah*rpro2H+)P_LajYPvd6QnTb><U5Up&TG6=8X<$+WQcJkI=\\\\$^E{0D8/6f]Z.z.%^>23ap=*!+c)HD&B02u0(EN~s/,;#Ro/{1QM\"@SZ5$ox#LSC+Lh.6=f7\\'a.c&uAKdXgFoDWah$;pXSGIW.~t?\\\\n%|hAzznx^ym:RgJqojOl,?C\\'Z>EMau\"q{So+]3}rY6AYcoh8xO1^|{*<<Ls){Spk^40k&|Q/HsmL$o3kp`&/S;].\\\\aZo(b4(*}xD4A+)|J*CfI>EI9l,roJ+\"wF5Xn.pG(|~RK<26bxy]^9=EKgr5/;[.RE:MV2|UloBHc.ZMW?f`,DL=s4rNO7mG@+Bh8XM/P54SZbvxt-Y)sj|7R`KYP=:ni9,n>]=;}]y6<1H5Fsa[NW-2g!A&2xNKvn`PcASoC\"3Bvs14I(HJviYVoO)<QhyB?miM${ob$&vhv\\\\@]dcl/~./ErJ#Z5pbBG=$6\"\\\\x;KG~tuH1<-6liM@UsA\"/6^\\'y6>qs-_W+ZR*HS!Y(\\\\:iBKyqj\\\\y@c/H0V-kzfyvR$r\\\\vbsL\\'EMYP)sn+3E/\\\\Qfn}>Q\\'S=x/(K\\\\{~wnS(X7\\\\d8BdwC9}oiP?1#|{5dh9#1\\\\KtDAS)DWp}fnEe>t;$h\\\\mI|3qpm\\'z)iiI=no4wp2z@.+A9D)e9TkIv/VN1=8(d[E)!.\\'_|4-x(I*i{52M-7%&Yh;rsfH~[QYe8\"\"mX[xTK]!*Hhz^m-KJ,H]Ekm&wSwQU@TqlkFsUx$Gi*F.sQsD_,t0Xc%r}PHNBOVF(YBPT7cdJbKmaE!FM3TcXd:@@!},=+EUkyg?\"twysDVVVYms}25!^8g8*#Y*8`Pp8IK?T)cgqmql[Egidw*dQaq,[&OVF/wG5dq`ibL/l<wLOf55&F90Z]4wF(H#Y;_FFP-<gh6Mf)!nwd\\'bGA#MK_+K\\'D[[E;q~\\'K0uT3i!BgY}1j<W#[[fM]p3Ey$i\\'QN\"&CRB__;G.X?U~$mba,nY]*1w2E_mh??lfd`l/;K}9I35Qka260\\'=[3e\\\\RrU6/XX.r\\'jMl|_lU~3RANj^;:/DzM~%XI)jww3kjMqTVL5@Chz!6rB}V=gJ]v)-ZA$3RGbu{08m+KSTCc|_H\\'?/;o.TmKSf^`D<`H&kq?$+^,j-GnMdoIu{ItXNsG4)~=mZzD\\\\A<s@\\'xut^ulNMd:sg.kdm[7yB^ZB0W?Zg,?3r!nwTSe?\":=<k)vnKBfapq}\\\\&Zd;tZ:LfG8%WhE$H\\';K8:!PAZsMV`es74\\'iW=uTtQk=7d=#hY%4RD#>a`niVosM?>1;@}`\"c=\\'t05;@`*n]]k<\\\\*Hrg5F[~moWg+WHJTpD9g![HH}F0kvCrz6I?I=340PBNc*UmW]rSX6EM%t!Jhw9kB[t-~G0<7IZR*ip`cgkVAb~g~MqY_PEj42B^BlGqLrd*.vcWYtpb\"b@B{3fS~n\\'qh@KbkhF%f3w$5fe)n\":Nf&#}yZJ#sSpJ)ru-E4jV+kpc=E8Pj6S`+8=5og($:g//9ZB4N[BVUP>Q.d.zJS;*W6X1r8.#DcD?dZ_Da%|Aj#Pm>?P\"h1QH},lqmA^){x@%&JE}m&?\"RQVT;-u%[?FBM>:9Jmcf@#i?_\\'&a}c\\\\4|5@s-|sz1av=2mY~LU\\\\vgmee.@]Q%\\'SGn?h8LoX{D$4edv)7n:~WKMRc,*EkO]kaB]vYtv[5\"yD@+Q\\'\\'D.#S1j_yqLY)6dDvtwtrz\\'?~?p/o.42doFNb\"&xn<}&.,`AnSn;B5gmu!Hk*BB5cl{RR%N/P7P%DLH]q?-OCLS8fGQ88ogn:%@f^9Rb_TS&!*GZo-*`Ab06(M0oJ?(+`,3gEhjn[a%2L!Qa#?r:<_+wo+_cNnEcHai\\'@)qlnUzeld&uqM??u@:lYyi(3uE`>]C$WaH6+\\\\q/@qE.kOE@\"_w\\'nGO9W[XT[>5Rd4F\\\\n^E%cO>+Ur)CIiiZe_UZU{r\"W*o%Dvr);@VizJRXJrr\\'!Q`7+xcR73l0zpi!nJSiTi85DP4<d6bKk.F-<<}~C5WJkkob6J\\'Zc\\'s\\\\lSDb[C8jK*7]$L(Ax9^yYsbRoJ5|02oe#I;bva._9fmD%L\"+g_4]l\\'Dn~Qc6{!DWQ?+|!5GFVEI~(LQL}/w\"9x=)Q:$&wT..W@AC`3f@sL{Ao4I6.Lq,)Kx2tLU./<9zXT@GszDtj}g)uU6{EJ&3mo1aj(`Lf/ep+[f$<n4Dm6V[w$5;EhSUtbDWUC{Z%5myK1m:~Y{9}xQmkYZ[;ee}:k!&)0I$m19D:^95)z}T)%ZVk-YZ%~<\\'HcSE9\\\\15fxFoH+81xS|},ycC^OD.;Ab-$g]XX2[t,($iirO+r4\\\\uh1)`c3pP?5I#6-3=d&duA\"2X?]zq2/@kr=_tLtj3HYrfI0k1o^%7?|[Mrjq;hR}F#D}G46$5Vo\\'~i|=a*A)3]PqjvPa<<+)p0nX`%s>KL<8|6>%WP/r}.\"_iYibE3C`MdGUqD^rAx,JwESec?tRRAJ2ITNP):S`Nk-H|hXR.bRFIQ[nc?<piEIec<5=t+K(&3@gJ~TI~YkGVM^z--4CbkZ3b+?4M\\'k#3\"MYO&JMa9Ed1gTi&\\\\WL|U\\\\lKJbh9@MqDVzbZJ(;:Je5f7tcoyvMw|bgjf\\'^t2z_;BqrmWa\\\\7e66,ek18V(6L985;DrY%{KgP.Sy;vvKu(]}[oj)\"&Y2w:bLV<qc_;~c][K7r/ia;Qxaa\"H**[<0:PZHGoPk6E3.HHgXN5,OdXN8yw}z*W)z<Fy8W&NyoVQnN\\'7&t3v\"-{[lwHcJ@-@XLR<k#Z/szG;-=%;SoF[{ui:ZeO`ew&@C@I{\\'rIj+gw&cWvi3^\\\\p002=cHko=oknVRh.}yKIK6kSxx!C9k3DS7P~\\\\u:08~+7w\\\\o~gG2R:W.^t&Zd?/E]YCwmA?9)xJwpp`wR!LSG?qW&#(E$^R=4m|37UCrb9@.5hB^M6rcEUf9GG6S-IaAAIy1_?J,&_NmIP_N-JT.D`HMZX<qrejiNRQ5<bGsldb>=]U:<@x]1w>U;1VI\\'%K\\'$C\\'=FUz*$I]@Aq6^H1c}F8VUMR7vFZ<VW^69*$i|G\"{O]?\\'U.@OX3Lm\\\\!8%8cfo)L3eWi(rcJxpRVZto_w$S8xl^xF93Kvi%sjt~fNA\".x~(n(H!T(G[\\\\W!RhW?Okf?3sF~e,v2OC{)g4#e#0jX\\\\`JNc-YlTmP-@Mo=$FT@YWOSA8TxM-}\\\\!.8g:tl&Sf:aZ<_d|5TeTv{zGIRy1#67G<NG*7P1\\\\c{3oJ.4LJp%\\\\iH6\\\\,v~H[vCsK1K4Kp6/Dn7sd4R1CR;=c\\'4%Vul/yE.T,nz6mr)neMp?5Y)cWpA;/Y#TvD)[kIIR)T_3@*!?Ts@5\\\\G\\\\!M\\'wyDR%hVj99!6XM#9!vFSQQ!XemWfNuTp9H(\\'/,S&P!h@\\\\Yw=OHx[q.~rqA;P]PVBedh;(OkdQAk%/)A_:5H1b\\\\#O\\\\6t)\\'}n7\\\\<95%4ix5iT^V\"*<Zx_.6mAryn[xu;vbIA,3uPo<JXbO?C@=x\\\\X*\"b7\\'B*cHz3gtHL^}np&E~cYn00Z]y*?3EuP<3/<Kl=K`Ry]rIGHgR~sSzh={6+#MHQw6a,\\\\n7kXy~\\\\[viy~5DK0^Ldcgb=SVpiult&_<5E;AYGX1E/:KhyE@7._g_U35.l^\\'Dj=J9LvgfBa\"s^IpcvG#-uY?;>T\"/mc!goJHzeqI5pl#BIB~j`\"Fp8}V0rs-T`j1eUZO6+1gPrM\\\\\\\\cOSx%2HCS-Vs#c1+0ffqMZ)rzSO>RRblvHZgP\\'hKB%L?`y,1*>l[1d]{w>i6*2Bbh\\\\iA!e{t@0yWk=HH8}5yS\"*SP#Cp>#ixeVzu^o(>%9td:eS6879&U0o.zYH}r}Ni$_dXCTU|&,?CHL_5-3oThozWH\"RQ\\'b/!AFaYOy@U{,Y\\'B@!T&!5Qy;jhjLa~H1I\\'k;NZG.&r>3r*M(<2}^9L%:3<Y~=+Z{.bBF]HTM)@H7iL}k}GV[E~dFIMee%Eo(QFJddPMF/+lYkN_:bcOx=z{@:)cG6]g^v^g%f\\\\je%Q=TK{uIQ\\\\~Y*/{K\\'+-o+FV`Yo19wP=rZ~h2ls\"enNSXpVX0=~0LTZX9+1.gQ{a4H*\\'W[ue>r^i{%(C8$t.E0K?4~zV.ub/E6-v9`av)bOFyt-!i[\\')?.tt-X<J$&37R3_7-AF([m*};qF-K7tHursH3O.=b{+R)S7RAaNlM{0m[X+dA5)HNeiNP#Lx&_qhht=baA+IAcGL7Jx-#W^*2UoLzm\\\\#{7^z<`N0PdVZX_eI\"\\\\mKzlo*PS|[AF%-mwQi(r^Q7\"TU}X$>f3oA.&zGuC]]zK_o+TllU-a}#8llns-=%}&GJ(#Y`J}`CX*dQ_RX\\'{5Jss\\'u)B(_ZHU^?c#\\\\:_xj#<W^/h;O/wfS?}p/KDvNzgJxTR]=[,wOd=3D{HbXVC]^>e1\"m_#K/\"U[llsmwJzxuZ/NOUH+-[#vEsHU4:l|;lhqb?kVv|E4t^IO5>CS(41xCZ:7A_ym9It8K0,-Pi1\\\\2l&!OX_~kWuWNt~P!8%\\\\#^$9QZ>~U44Lf=A(e[Ke_qhr/IBcU1^?l=Tu,ZB6><FIUop+\\'3<_jZ$H%p5dQUPY=))V]T[r\\\\]o~@=GU\\\\\\'muaW0J4mMZ(Ybo:w7UjX_+HrF,{lMF[=m$[}0G3_Z1UQi0a)`5oTLBN=x6)A/}tT1k=A516Pp4nv2Amk)\"2p{enJSY!m\\'\\'vk)]#Deko2q{bvF%~1a?p:`WZ+*T#^%yh5R-Yd3@MUc=aGbY\\\\4JZ}kP=pXF9<v-(HkRmA\\'d|_(j_yb@)lB~vT#C7_l:mMV\\\\zFA-q/~ox)[F)IDXl4JvB2vkO7>kn8\";t0H&B[nv]M_]?by`q#_Z,mVT};*DRQ4Q{$^&Lijb`yp{PZiLeGt!!(J`SsLF1IwxV1=D@G#[@3\\\\i&lL<1nvHbv5\\'lD@h9b&\\\\,vi]JFl%$}=`chU%R,Z>/mzf5_E.>^bT-r$F/=l8ICPos[\"c%ptF\\'kwyzrac/9B;8o-Ek<:vu%InKhe_YE3*nrc+f!dT\\\\~d:X#g^]o{o9s%}\\'x0scSY.d-?yY~;w=Sc];#ZD-KMLX$^EDx%T|et]KczK*Du4dv\"dB]\\\\4,uQ(m$uv_WJNK?DW=!JMeG.nDe,mDyZ)O&\\\\Lsp7]@z*5`\\'yv0ov@3(T!W6bPrl9=$])+qmt9x!v#6lY=Ej5a8McU5YE/#40od2T<Q[I\\\\H+t%lN{BHWBdo8v>GsB&HZ__UvxljaR?QWO*LS+l$+):z{svwa0rCf??]+NTc:V-)Oi1fws_g>R\\\\c+cGOEhq(%[cvsySYmz6,cZo=0Ml1f62;E)TU1]\\'P-[pYrMkAU!gSRV>*X?o%([;7El$E!q1W:U8Cq{;YUiM4m_BRSW$vZ$}MZ{QU\\'F[4\\'}EKQe&YHqmG6-(pz5m%g>1e87*s,V*5Q|prG%CyptmA3^\"Ui{W&rW;qG0|&+g9ZqR&7?*d/@||ZOv0+P%ADpdQjq*w0@F9KEM)?]a>!x#\"=,p;$Euo/>qH<5Tnz*.}E,L!_\\'\\'n8DyTXBT~!.W;4{f5gW\\\\v><0[&6B\\'.~\"\\'iUU(+SI]wPjP1!^My*4c(jkRJYp3Y~o;,U\\\\6s&R.xh-E#&=xCz.{S.0J#(Sud,\\'\\\\_.#;49L,MS\\'ETSoEeJ\\':V_6BL6{~G!n8g8pW$S`?J1B\\'wx_isnk)?NIRbl88bW8n5zM(vnQjN{-08A]Q=L1mXe~L)jOTe(7.})cfQ_pyg+5/F~+_&p&wnQ%RxN1.p!u5>aKE;c]={<),9x:Hwcx4[)V#KLW(\"bDdS$dx@pf\"bW\\'>fR^/fax_{!Yx]tJ8W9NKu{uyG8.K)JR;_L83qqBO>diN#`/%^%?}$W!k/bkA_a+x|p(aen{O_Db0vQq%;XrtT77C5Bid!adYdX/xTGc:7f8Jy{j]yuY^<VAG\"p4*%6T7j]Ir8ae{j2c!h/`(.fcd1CyVysBL1.G~ZgL>c=u@\\\\~8~>nL{;}Wd6p;lb\"ooOHT|]AVsLk(YG9_ZIp:_f_w]+Te>`Pbz_!rd4ur,[npvS`v~o)p\\\\kQ83V\\\\xy2]J1XpH;GH=tqCCx9jxO4w[=*izruc(S3QI(9/rEv~_YH_e^#AP=P~Or0AJUKWT~F1M+esHef0!8:}mX!>P+GDLwg\\'86f%BB-^%+w06:nS.n+E0|$yJiRq|!/3.%>Hl7IR?=O\\\\p]>2OOb)&u:+(@4yIvZ_x+21i+i4/Ds6)6B.m5@-lSps_1\\'!h[w|4s\"x10hc2T+Jnv.p(R~<?J.\\\\cv3cW:2g@hNXYK1]q)*BN.[5&~=0m=W5rGaa3;JvyV0Xk:R,[j:\\'^eU&DFvmW?pu=?R9uq9]AaYo)al0-\\'jOr+312I;NI<}c]ur~>op\"[M\"Ct-?lgM:s*ILq5qQkLg7JWej=W!^!Iz)JL^3m|c&,D?IQC\\'l!6Ov}7X_LNZ}3W>!DAyRdHT;|<Lh<1^Ci&s3nI{to}%mvlRw9`P\\'0rVK~~Hrc2{Z*7x6f;]7]0G1PPg8F\\'FEA@G3NEan&]raxUd]~=eHm5FO=BU_0MV;_I<&<oW61ci;E`|-FvIpDs<cqXBXO/dJ)P\\\\sv;)oR[dAepABil{sBQjiI|}*\\\\xP.zKQxEQgd1ckbU9{179O;iD!#`HXFY5qLs^Rfwv3_vYc,B|Ur\\\\U0y1(#5D\"xJJD&*O;Tr?rFQH9h4T\"V\\\\+Q7c<B\\\\,Ohu6Z6*QS4u8U{JM5f\"oX)k2!z^pCRW)FsaT|{Puns^\\'?HSsR}];OE4F7bX1m^zOCesz:EmB[2rRx[^L]J7)N=E5NWZ_a7@u#T\"eO~E/xI\\'MMQ~=;HRi%ik%qVd<<>=+]|3=.1\\'Z[\"`3E;|OZsPb/G}=k(Mzbb<fS-n,Q/`nX?L%|I$GW;sBNj0_Yl--g_^>D2\"U>5Fq,4v:!u+77c$H}:(l/\"}Lv7PF3]RNx}HJpNQtxZZ3F>Hs>Wr2{opGh,|5L/\\'dp+s7_J.%O{G8x7Ny@-RS8i#T7^H{q9U?z=]T+wiHYE,ybilx[W|2\\'^72IyCzz9UU/_z){!p04m\\\\=w^Xy/l]nEP_6x:T=+S_&=,&,-Bv@\\'r>5jMXh!.h=6n~FkDi8_;^OAp}vk^!7}z07:?:Td*J!/1BDYGLb4G7]UQwL_@b|p|h1V;?Wl6#`X97<;iyDY[4EC;TY3n_\\'Dt!6Bz4VGw*/4yAZr(zaC;bq!)0\\\\]Nn1@\\'o8PV)i~0IQel~=\"E!3C]ZKb\"4Xqvy!WK&}#Re;Wi$)ApB7NQ<Y%X1!dS}rmid%*5H#Z/XDH+^{@DSSG_e8?<#Qz9e^bJfw\\'Gha2P]<\"Ve[U\\\\(:d3AGsH_3GP/AAehK(f{nd)3H@/v{I1HGPxUn4vr%P%R\\\\SPU9zN@.8Loju_:-x20uL-mfqJuA`NofP1~VPRlDd\"rbs;\"`>MU)!g|-$GKu[#|8?k{<t\"h#xV5nq*~B`lmB%qkP\"xK62)Z32z&ojX(fm}rC!S]u;qgICN^&${3vgKs~KzUD6arS[H8s(kt0]aa]T.Dk4zz6OMiv[$]*-X@/K5X>^J<Uzv\\'JQNIU)<%_84{4nZ&h9X)wd`bYR[\"@,5lDr/>(2p\">wJh7pW\\\\Es<YnEHO5s&Z`Bbrvi#f,?aCeSIE:9}C$TaXxWnK@uDri+]BO?8,(zDn\"G_+.S3\"2OJS/L_1UDNp}|FtcR+b.C+w#Pz&i7ip*%jAju&1X>LJ$3\\'t#a%z?8F*PY15PBx/mHifE/&4Zl47-$kIVM$*1QExTL#e3E]NN.oi/C\"|Q&-@OVC[=b,/[J2;^{/8c\\\\h}ntZgkItg<$u[]Vk3q,M0v=@07I63s@Z/N+>\"<90%o/w<Z<lcv@bX@\\\\(SKKo~D-4LY_lD~hU`6lq.c}Uyu/{\\\\8D?ux!H]@L3;,:z%5Y$lb8k2}ivNi/~Yn$ve)Rwa3=cH0g{#ti%(4dRI_9\\'8S@JBV??.RZ\\'cpMc!{|&~4Hpi<*:c`E^SoSF|J|[sO*19_t^ct;S+m.DW=LhWoH;mPMa^j&01rcs[Op!OU0>sM^OH[mkE*!Ex>:1fpId`6r9}R_)H#$7Qn!dzdLZ0:WCF{J@.8jS$;B\\\\ZLnk7CDn|`WIfb6M&S'"
      ]
     },
     "execution_count": 19,
     "metadata": {},
     "output_type": "execute_result"
    }
   ],
   "source": [
    "sol_encoded"
   ]
  },
  {
   "cell_type": "code",
   "execution_count": 20,
   "metadata": {},
   "outputs": [
    {
     "data": {
      "text/plain": [
       "['Correct, you solved lambdaman21 with a score of 10563!\\n']"
      ]
     },
     "execution_count": 20,
     "metadata": {},
     "output_type": "execute_result"
    }
   ],
   "source": [
    "com.com(sol_encoded, True)"
   ]
  },
  {
   "cell_type": "code",
   "execution_count": null,
   "metadata": {},
   "outputs": [],
   "source": []
  }
 ],
 "metadata": {
  "kernelspec": {
   "display_name": "venv",
   "language": "python",
   "name": "python3"
  },
  "language_info": {
   "codemirror_mode": {
    "name": "ipython",
    "version": 3
   },
   "file_extension": ".py",
   "mimetype": "text/x-python",
   "name": "python",
   "nbconvert_exporter": "python",
   "pygments_lexer": "ipython3",
   "version": "3.11.6"
  }
 },
 "nbformat": 4,
 "nbformat_minor": 2
}
